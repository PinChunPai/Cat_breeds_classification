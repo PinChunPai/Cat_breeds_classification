{
  "cells": [
    {
      "cell_type": "markdown",
      "metadata": {
        "id": "view-in-github",
        "colab_type": "text"
      },
      "source": [
        "<a href=\"https://colab.research.google.com/github/PinChunPai/Cat_breeds_classification/blob/main/colab/Cat_breeds_basic_continue.ipynb\" target=\"_parent\"><img src=\"https://colab.research.google.com/assets/colab-badge.svg\" alt=\"Open In Colab\"/></a>"
      ]
    },
    {
      "cell_type": "markdown",
      "metadata": {
        "id": "bOSs_15zMLeH"
      },
      "source": [
        "# **Cat breeds classification Continue**\n",
        "In Cat_breeds_basic we have trained our fine_tune_model for 85 epochs. The accuracy approached 81.8% and the model is saved. Here we load it and keep training by smaller learning rate."
      ]
    },
    {
      "cell_type": "markdown",
      "metadata": {
        "id": "0xBWuGuJM9eB"
      },
      "source": [
        "## **Steps**\n",
        "Using the same setup and dataloader.\n"
      ]
    },
    {
      "cell_type": "markdown",
      "metadata": {
        "id": "eN9-1ycXMvvs"
      },
      "source": [
        "## **Setup**\n",
        "Firstly, we import and install packages which will be used later. Start from fundamental commands for i/o, algebra and drawing."
      ]
    },
    {
      "cell_type": "code",
      "execution_count": 1,
      "metadata": {
        "id": "rdjTgsqYMvQ6"
      },
      "outputs": [],
      "source": [
        "## Fundamental packages for reading/writing files, algebra and plot\n",
        "import os\n",
        "import numpy as np\n",
        "import pandas as pd\n",
        "import matplotlib.pyplot as plt\n",
        "import seaborn as sns\n",
        "from PIL import Image\n",
        "import cv2 ### used for reading/writing images\n",
        "import warnings\n",
        "warnings.filterwarnings(\"ignore\") ## ignore annoying warnings\n",
        "from sklearn.model_selection import train_test_split ## For data preprocess"
      ]
    },
    {
      "cell_type": "markdown",
      "metadata": {
        "id": "N1y609NDOcz9"
      },
      "source": [
        "Then we import torch and relative packages used fo preprocess and load image datas"
      ]
    },
    {
      "cell_type": "code",
      "execution_count": 2,
      "metadata": {
        "id": "b4esEd1AMMIt"
      },
      "outputs": [],
      "source": [
        "import torch\n",
        "from torch import nn\n",
        "from torchvision import transforms\n",
        "from torchvision.datasets import ImageFolder\n",
        "from torch.utils.data import DataLoader, Dataset"
      ]
    },
    {
      "cell_type": "markdown",
      "metadata": {
        "id": "MtfMuWl8Oz78"
      },
      "source": [
        "Now we install three packages:\n",
        "* transformer: to use pre-trained vision transformer models\n",
        "* evaluate: to provide various metrics to evaluate models\n",
        "* gradio: to establish web demo\n",
        "\n",
        "I am going to fix the version so I can use what I learn from class without worrying about version issues."
      ]
    },
    {
      "cell_type": "code",
      "execution_count": 3,
      "metadata": {
        "id": "S6bU5d99Oza3",
        "colab": {
          "base_uri": "https://localhost:8080/"
        },
        "outputId": "41bbc4db-7510-49bc-e7a2-ee1770de19ba"
      },
      "outputs": [
        {
          "output_type": "stream",
          "name": "stdout",
          "text": [
            "Requirement already satisfied: transformers==4.24.0 in /usr/local/lib/python3.10/dist-packages (4.24.0)\n",
            "Requirement already satisfied: filelock in /usr/local/lib/python3.10/dist-packages (from transformers==4.24.0) (3.13.1)\n",
            "Requirement already satisfied: huggingface-hub<1.0,>=0.10.0 in /usr/local/lib/python3.10/dist-packages (from transformers==4.24.0) (0.20.2)\n",
            "Requirement already satisfied: numpy>=1.17 in /usr/local/lib/python3.10/dist-packages (from transformers==4.24.0) (1.23.5)\n",
            "Requirement already satisfied: packaging>=20.0 in /usr/local/lib/python3.10/dist-packages (from transformers==4.24.0) (23.2)\n",
            "Requirement already satisfied: pyyaml>=5.1 in /usr/local/lib/python3.10/dist-packages (from transformers==4.24.0) (6.0.1)\n",
            "Requirement already satisfied: regex!=2019.12.17 in /usr/local/lib/python3.10/dist-packages (from transformers==4.24.0) (2023.6.3)\n",
            "Requirement already satisfied: requests in /usr/local/lib/python3.10/dist-packages (from transformers==4.24.0) (2.31.0)\n",
            "Requirement already satisfied: tokenizers!=0.11.3,<0.14,>=0.11.1 in /usr/local/lib/python3.10/dist-packages (from transformers==4.24.0) (0.13.3)\n",
            "Requirement already satisfied: tqdm>=4.27 in /usr/local/lib/python3.10/dist-packages (from transformers==4.24.0) (4.66.1)\n",
            "Requirement already satisfied: fsspec>=2023.5.0 in /usr/local/lib/python3.10/dist-packages (from huggingface-hub<1.0,>=0.10.0->transformers==4.24.0) (2023.6.0)\n",
            "Requirement already satisfied: typing-extensions>=3.7.4.3 in /usr/local/lib/python3.10/dist-packages (from huggingface-hub<1.0,>=0.10.0->transformers==4.24.0) (4.9.0)\n",
            "Requirement already satisfied: charset-normalizer<4,>=2 in /usr/local/lib/python3.10/dist-packages (from requests->transformers==4.24.0) (3.3.2)\n",
            "Requirement already satisfied: idna<4,>=2.5 in /usr/local/lib/python3.10/dist-packages (from requests->transformers==4.24.0) (3.6)\n",
            "Requirement already satisfied: urllib3<3,>=1.21.1 in /usr/local/lib/python3.10/dist-packages (from requests->transformers==4.24.0) (2.0.7)\n",
            "Requirement already satisfied: certifi>=2017.4.17 in /usr/local/lib/python3.10/dist-packages (from requests->transformers==4.24.0) (2023.11.17)\n",
            "Requirement already satisfied: evaluate==0.3.0 in /usr/local/lib/python3.10/dist-packages (0.3.0)\n",
            "Requirement already satisfied: datasets>=2.0.0 in /usr/local/lib/python3.10/dist-packages (from evaluate==0.3.0) (2.16.1)\n",
            "Requirement already satisfied: numpy>=1.17 in /usr/local/lib/python3.10/dist-packages (from evaluate==0.3.0) (1.23.5)\n",
            "Requirement already satisfied: dill in /usr/local/lib/python3.10/dist-packages (from evaluate==0.3.0) (0.3.7)\n",
            "Requirement already satisfied: pandas in /usr/local/lib/python3.10/dist-packages (from evaluate==0.3.0) (1.5.3)\n",
            "Requirement already satisfied: requests>=2.19.0 in /usr/local/lib/python3.10/dist-packages (from evaluate==0.3.0) (2.31.0)\n",
            "Requirement already satisfied: tqdm>=4.62.1 in /usr/local/lib/python3.10/dist-packages (from evaluate==0.3.0) (4.66.1)\n",
            "Requirement already satisfied: xxhash in /usr/local/lib/python3.10/dist-packages (from evaluate==0.3.0) (3.4.1)\n",
            "Requirement already satisfied: multiprocess in /usr/local/lib/python3.10/dist-packages (from evaluate==0.3.0) (0.70.15)\n",
            "Requirement already satisfied: fsspec[http]>=2021.05.0 in /usr/local/lib/python3.10/dist-packages (from evaluate==0.3.0) (2023.6.0)\n",
            "Requirement already satisfied: huggingface-hub>=0.7.0 in /usr/local/lib/python3.10/dist-packages (from evaluate==0.3.0) (0.20.2)\n",
            "Requirement already satisfied: packaging in /usr/local/lib/python3.10/dist-packages (from evaluate==0.3.0) (23.2)\n",
            "Requirement already satisfied: responses<0.19 in /usr/local/lib/python3.10/dist-packages (from evaluate==0.3.0) (0.18.0)\n",
            "Requirement already satisfied: filelock in /usr/local/lib/python3.10/dist-packages (from datasets>=2.0.0->evaluate==0.3.0) (3.13.1)\n",
            "Requirement already satisfied: pyarrow>=8.0.0 in /usr/local/lib/python3.10/dist-packages (from datasets>=2.0.0->evaluate==0.3.0) (10.0.1)\n",
            "Requirement already satisfied: pyarrow-hotfix in /usr/local/lib/python3.10/dist-packages (from datasets>=2.0.0->evaluate==0.3.0) (0.6)\n",
            "Requirement already satisfied: aiohttp in /usr/local/lib/python3.10/dist-packages (from datasets>=2.0.0->evaluate==0.3.0) (3.9.1)\n",
            "Requirement already satisfied: pyyaml>=5.1 in /usr/local/lib/python3.10/dist-packages (from datasets>=2.0.0->evaluate==0.3.0) (6.0.1)\n",
            "Requirement already satisfied: typing-extensions>=3.7.4.3 in /usr/local/lib/python3.10/dist-packages (from huggingface-hub>=0.7.0->evaluate==0.3.0) (4.9.0)\n",
            "Requirement already satisfied: charset-normalizer<4,>=2 in /usr/local/lib/python3.10/dist-packages (from requests>=2.19.0->evaluate==0.3.0) (3.3.2)\n",
            "Requirement already satisfied: idna<4,>=2.5 in /usr/local/lib/python3.10/dist-packages (from requests>=2.19.0->evaluate==0.3.0) (3.6)\n",
            "Requirement already satisfied: urllib3<3,>=1.21.1 in /usr/local/lib/python3.10/dist-packages (from requests>=2.19.0->evaluate==0.3.0) (2.0.7)\n",
            "Requirement already satisfied: certifi>=2017.4.17 in /usr/local/lib/python3.10/dist-packages (from requests>=2.19.0->evaluate==0.3.0) (2023.11.17)\n",
            "Requirement already satisfied: python-dateutil>=2.8.1 in /usr/local/lib/python3.10/dist-packages (from pandas->evaluate==0.3.0) (2.8.2)\n",
            "Requirement already satisfied: pytz>=2020.1 in /usr/local/lib/python3.10/dist-packages (from pandas->evaluate==0.3.0) (2023.3.post1)\n",
            "Requirement already satisfied: attrs>=17.3.0 in /usr/local/lib/python3.10/dist-packages (from aiohttp->datasets>=2.0.0->evaluate==0.3.0) (23.2.0)\n",
            "Requirement already satisfied: multidict<7.0,>=4.5 in /usr/local/lib/python3.10/dist-packages (from aiohttp->datasets>=2.0.0->evaluate==0.3.0) (6.0.4)\n",
            "Requirement already satisfied: yarl<2.0,>=1.0 in /usr/local/lib/python3.10/dist-packages (from aiohttp->datasets>=2.0.0->evaluate==0.3.0) (1.9.4)\n",
            "Requirement already satisfied: frozenlist>=1.1.1 in /usr/local/lib/python3.10/dist-packages (from aiohttp->datasets>=2.0.0->evaluate==0.3.0) (1.4.1)\n",
            "Requirement already satisfied: aiosignal>=1.1.2 in /usr/local/lib/python3.10/dist-packages (from aiohttp->datasets>=2.0.0->evaluate==0.3.0) (1.3.1)\n",
            "Requirement already satisfied: async-timeout<5.0,>=4.0 in /usr/local/lib/python3.10/dist-packages (from aiohttp->datasets>=2.0.0->evaluate==0.3.0) (4.0.3)\n",
            "Requirement already satisfied: six>=1.5 in /usr/local/lib/python3.10/dist-packages (from python-dateutil>=2.8.1->pandas->evaluate==0.3.0) (1.16.0)\n",
            "Requirement already satisfied: gradio==3.12.0 in /usr/local/lib/python3.10/dist-packages (3.12.0)\n",
            "Requirement already satisfied: aiohttp in /usr/local/lib/python3.10/dist-packages (from gradio==3.12.0) (3.9.1)\n",
            "Requirement already satisfied: fastapi in /usr/local/lib/python3.10/dist-packages (from gradio==3.12.0) (0.109.0)\n",
            "Requirement already satisfied: ffmpy in /usr/local/lib/python3.10/dist-packages (from gradio==3.12.0) (0.3.1)\n",
            "Requirement already satisfied: fsspec in /usr/local/lib/python3.10/dist-packages (from gradio==3.12.0) (2023.6.0)\n",
            "Requirement already satisfied: h11<0.13,>=0.11 in /usr/local/lib/python3.10/dist-packages (from gradio==3.12.0) (0.12.0)\n",
            "Requirement already satisfied: httpx in /usr/local/lib/python3.10/dist-packages (from gradio==3.12.0) (0.25.1)\n",
            "Requirement already satisfied: jinja2 in /usr/local/lib/python3.10/dist-packages (from gradio==3.12.0) (3.1.2)\n",
            "Requirement already satisfied: markdown-it-py[linkify,plugins] in /usr/local/lib/python3.10/dist-packages (from gradio==3.12.0) (3.0.0)\n",
            "Requirement already satisfied: matplotlib in /usr/local/lib/python3.10/dist-packages (from gradio==3.12.0) (3.7.1)\n",
            "Requirement already satisfied: numpy in /usr/local/lib/python3.10/dist-packages (from gradio==3.12.0) (1.23.5)\n",
            "Requirement already satisfied: orjson in /usr/local/lib/python3.10/dist-packages (from gradio==3.12.0) (3.9.10)\n",
            "Requirement already satisfied: pandas in /usr/local/lib/python3.10/dist-packages (from gradio==3.12.0) (1.5.3)\n",
            "Requirement already satisfied: paramiko in /usr/local/lib/python3.10/dist-packages (from gradio==3.12.0) (3.4.0)\n",
            "Requirement already satisfied: pillow in /usr/local/lib/python3.10/dist-packages (from gradio==3.12.0) (9.4.0)\n",
            "Requirement already satisfied: pycryptodome in /usr/local/lib/python3.10/dist-packages (from gradio==3.12.0) (3.20.0)\n",
            "Requirement already satisfied: pydantic in /usr/local/lib/python3.10/dist-packages (from gradio==3.12.0) (1.10.13)\n",
            "Requirement already satisfied: pydub in /usr/local/lib/python3.10/dist-packages (from gradio==3.12.0) (0.25.1)\n",
            "Requirement already satisfied: python-multipart in /usr/local/lib/python3.10/dist-packages (from gradio==3.12.0) (0.0.6)\n",
            "Requirement already satisfied: pyyaml in /usr/local/lib/python3.10/dist-packages (from gradio==3.12.0) (6.0.1)\n",
            "Requirement already satisfied: requests in /usr/local/lib/python3.10/dist-packages (from gradio==3.12.0) (2.31.0)\n",
            "Requirement already satisfied: uvicorn in /usr/local/lib/python3.10/dist-packages (from gradio==3.12.0) (0.25.0)\n",
            "Requirement already satisfied: websockets>=10.0 in /usr/local/lib/python3.10/dist-packages (from gradio==3.12.0) (12.0)\n",
            "Requirement already satisfied: attrs>=17.3.0 in /usr/local/lib/python3.10/dist-packages (from aiohttp->gradio==3.12.0) (23.2.0)\n",
            "Requirement already satisfied: multidict<7.0,>=4.5 in /usr/local/lib/python3.10/dist-packages (from aiohttp->gradio==3.12.0) (6.0.4)\n",
            "Requirement already satisfied: yarl<2.0,>=1.0 in /usr/local/lib/python3.10/dist-packages (from aiohttp->gradio==3.12.0) (1.9.4)\n",
            "Requirement already satisfied: frozenlist>=1.1.1 in /usr/local/lib/python3.10/dist-packages (from aiohttp->gradio==3.12.0) (1.4.1)\n",
            "Requirement already satisfied: aiosignal>=1.1.2 in /usr/local/lib/python3.10/dist-packages (from aiohttp->gradio==3.12.0) (1.3.1)\n",
            "Requirement already satisfied: async-timeout<5.0,>=4.0 in /usr/local/lib/python3.10/dist-packages (from aiohttp->gradio==3.12.0) (4.0.3)\n",
            "Requirement already satisfied: starlette<0.36.0,>=0.35.0 in /usr/local/lib/python3.10/dist-packages (from fastapi->gradio==3.12.0) (0.35.1)\n",
            "Requirement already satisfied: typing-extensions>=4.8.0 in /usr/local/lib/python3.10/dist-packages (from fastapi->gradio==3.12.0) (4.9.0)\n",
            "Requirement already satisfied: anyio in /usr/local/lib/python3.10/dist-packages (from httpx->gradio==3.12.0) (3.7.1)\n",
            "Requirement already satisfied: certifi in /usr/local/lib/python3.10/dist-packages (from httpx->gradio==3.12.0) (2023.11.17)\n",
            "Requirement already satisfied: httpcore in /usr/local/lib/python3.10/dist-packages (from httpx->gradio==3.12.0) (0.15.0)\n",
            "Requirement already satisfied: idna in /usr/local/lib/python3.10/dist-packages (from httpx->gradio==3.12.0) (3.6)\n",
            "Requirement already satisfied: sniffio in /usr/local/lib/python3.10/dist-packages (from httpx->gradio==3.12.0) (1.3.0)\n",
            "Requirement already satisfied: MarkupSafe>=2.0 in /usr/local/lib/python3.10/dist-packages (from jinja2->gradio==3.12.0) (2.1.3)\n",
            "Requirement already satisfied: mdurl~=0.1 in /usr/local/lib/python3.10/dist-packages (from markdown-it-py[linkify,plugins]->gradio==3.12.0) (0.1.2)\n",
            "Requirement already satisfied: mdit-py-plugins in /usr/local/lib/python3.10/dist-packages (from markdown-it-py[linkify,plugins]->gradio==3.12.0) (0.4.0)\n",
            "Requirement already satisfied: linkify-it-py<3,>=1 in /usr/local/lib/python3.10/dist-packages (from markdown-it-py[linkify,plugins]->gradio==3.12.0) (2.0.2)\n",
            "Requirement already satisfied: contourpy>=1.0.1 in /usr/local/lib/python3.10/dist-packages (from matplotlib->gradio==3.12.0) (1.2.0)\n",
            "Requirement already satisfied: cycler>=0.10 in /usr/local/lib/python3.10/dist-packages (from matplotlib->gradio==3.12.0) (0.12.1)\n",
            "Requirement already satisfied: fonttools>=4.22.0 in /usr/local/lib/python3.10/dist-packages (from matplotlib->gradio==3.12.0) (4.47.0)\n",
            "Requirement already satisfied: kiwisolver>=1.0.1 in /usr/local/lib/python3.10/dist-packages (from matplotlib->gradio==3.12.0) (1.4.5)\n",
            "Requirement already satisfied: packaging>=20.0 in /usr/local/lib/python3.10/dist-packages (from matplotlib->gradio==3.12.0) (23.2)\n",
            "Requirement already satisfied: pyparsing>=2.3.1 in /usr/local/lib/python3.10/dist-packages (from matplotlib->gradio==3.12.0) (3.1.1)\n",
            "Requirement already satisfied: python-dateutil>=2.7 in /usr/local/lib/python3.10/dist-packages (from matplotlib->gradio==3.12.0) (2.8.2)\n",
            "Requirement already satisfied: pytz>=2020.1 in /usr/local/lib/python3.10/dist-packages (from pandas->gradio==3.12.0) (2023.3.post1)\n",
            "Requirement already satisfied: bcrypt>=3.2 in /usr/local/lib/python3.10/dist-packages (from paramiko->gradio==3.12.0) (4.1.2)\n",
            "Requirement already satisfied: cryptography>=3.3 in /usr/local/lib/python3.10/dist-packages (from paramiko->gradio==3.12.0) (41.0.7)\n",
            "Requirement already satisfied: pynacl>=1.5 in /usr/local/lib/python3.10/dist-packages (from paramiko->gradio==3.12.0) (1.5.0)\n",
            "Requirement already satisfied: charset-normalizer<4,>=2 in /usr/local/lib/python3.10/dist-packages (from requests->gradio==3.12.0) (3.3.2)\n",
            "Requirement already satisfied: urllib3<3,>=1.21.1 in /usr/local/lib/python3.10/dist-packages (from requests->gradio==3.12.0) (2.0.7)\n",
            "Requirement already satisfied: click>=7.0 in /usr/local/lib/python3.10/dist-packages (from uvicorn->gradio==3.12.0) (8.1.7)\n",
            "Requirement already satisfied: cffi>=1.12 in /usr/local/lib/python3.10/dist-packages (from cryptography>=3.3->paramiko->gradio==3.12.0) (1.16.0)\n",
            "Requirement already satisfied: uc-micro-py in /usr/local/lib/python3.10/dist-packages (from linkify-it-py<3,>=1->markdown-it-py[linkify,plugins]->gradio==3.12.0) (1.0.2)\n",
            "Requirement already satisfied: six>=1.5 in /usr/local/lib/python3.10/dist-packages (from python-dateutil>=2.7->matplotlib->gradio==3.12.0) (1.16.0)\n",
            "Requirement already satisfied: exceptiongroup in /usr/local/lib/python3.10/dist-packages (from anyio->httpx->gradio==3.12.0) (1.2.0)\n",
            "Requirement already satisfied: pycparser in /usr/local/lib/python3.10/dist-packages (from cffi>=1.12->cryptography>=3.3->paramiko->gradio==3.12.0) (2.21)\n"
          ]
        }
      ],
      "source": [
        "!pip install transformers==4.24.0\n",
        "!pip install evaluate==0.3.0\n",
        "!pip install gradio==3.12.0"
      ]
    },
    {
      "cell_type": "markdown",
      "metadata": {
        "id": "BW0yDZl-TMHv"
      },
      "source": [
        "## **1.Get data**\n",
        "The dataset is stored in my google derive. So I define the relevant path for my derive. **This part should be modified on different enviroments.**\n",
        "\n",
        "In this project I am going to use a cat breed dataset downloaded from [this Kaggle page](https://www.kaggle.com/datasets/knucharat/pop-cats). However the resourse can be tracked back to another [Petfinder](https://www.petfinder.com/developers/) \\(available through [petpy](https://github.com/aschleg/petpy) \\). The set I use in this project has been cleaned and it contains 20 common breeds, each containing 500 pictures. I further integrate the data and stored the reult in labels.csv.\n",
        "\n"
      ]
    },
    {
      "cell_type": "code",
      "execution_count": 4,
      "metadata": {
        "id": "Dx3kdBKTPc-s"
      },
      "outputs": [],
      "source": [
        "path = '/content/drive/MyDrive/Project/Transformer_CV' ## It should be modified to the ACTUAL PATH storing dataset."
      ]
    },
    {
      "cell_type": "markdown",
      "metadata": {
        "id": "qkWZ1yyyCCbs"
      },
      "source": [
        "Let's take a look at labels.csv, which stores useful information."
      ]
    },
    {
      "cell_type": "code",
      "execution_count": 5,
      "metadata": {
        "colab": {
          "base_uri": "https://localhost:8080/",
          "height": 206
        },
        "id": "b8wmxSUBXQf6",
        "outputId": "15576b4d-158b-49c9-e7e2-ab30902c8373"
      },
      "outputs": [
        {
          "output_type": "execute_result",
          "data": {
            "text/plain": [
              "                     id                  breed\n",
              "0      munchkin_478.jpg        Munchkin / 曼赤肯貓\n",
              "1  americancurl_329.jpg  American Curl / 美國卷耳貓\n",
              "2         birman_61.jpg           Birman / 伯曼貓\n",
              "3   russianblue_199.jpg   Russian Blue / 俄羅斯藍貓\n",
              "4      munchkin_429.jpg        Munchkin / 曼赤肯貓"
            ],
            "text/html": [
              "\n",
              "  <div id=\"df-1a93a285-c2b4-4583-b715-06e813032dee\" class=\"colab-df-container\">\n",
              "    <div>\n",
              "<style scoped>\n",
              "    .dataframe tbody tr th:only-of-type {\n",
              "        vertical-align: middle;\n",
              "    }\n",
              "\n",
              "    .dataframe tbody tr th {\n",
              "        vertical-align: top;\n",
              "    }\n",
              "\n",
              "    .dataframe thead th {\n",
              "        text-align: right;\n",
              "    }\n",
              "</style>\n",
              "<table border=\"1\" class=\"dataframe\">\n",
              "  <thead>\n",
              "    <tr style=\"text-align: right;\">\n",
              "      <th></th>\n",
              "      <th>id</th>\n",
              "      <th>breed</th>\n",
              "    </tr>\n",
              "  </thead>\n",
              "  <tbody>\n",
              "    <tr>\n",
              "      <th>0</th>\n",
              "      <td>munchkin_478.jpg</td>\n",
              "      <td>Munchkin / 曼赤肯貓</td>\n",
              "    </tr>\n",
              "    <tr>\n",
              "      <th>1</th>\n",
              "      <td>americancurl_329.jpg</td>\n",
              "      <td>American Curl / 美國卷耳貓</td>\n",
              "    </tr>\n",
              "    <tr>\n",
              "      <th>2</th>\n",
              "      <td>birman_61.jpg</td>\n",
              "      <td>Birman / 伯曼貓</td>\n",
              "    </tr>\n",
              "    <tr>\n",
              "      <th>3</th>\n",
              "      <td>russianblue_199.jpg</td>\n",
              "      <td>Russian Blue / 俄羅斯藍貓</td>\n",
              "    </tr>\n",
              "    <tr>\n",
              "      <th>4</th>\n",
              "      <td>munchkin_429.jpg</td>\n",
              "      <td>Munchkin / 曼赤肯貓</td>\n",
              "    </tr>\n",
              "  </tbody>\n",
              "</table>\n",
              "</div>\n",
              "    <div class=\"colab-df-buttons\">\n",
              "\n",
              "  <div class=\"colab-df-container\">\n",
              "    <button class=\"colab-df-convert\" onclick=\"convertToInteractive('df-1a93a285-c2b4-4583-b715-06e813032dee')\"\n",
              "            title=\"Convert this dataframe to an interactive table.\"\n",
              "            style=\"display:none;\">\n",
              "\n",
              "  <svg xmlns=\"http://www.w3.org/2000/svg\" height=\"24px\" viewBox=\"0 -960 960 960\">\n",
              "    <path d=\"M120-120v-720h720v720H120Zm60-500h600v-160H180v160Zm220 220h160v-160H400v160Zm0 220h160v-160H400v160ZM180-400h160v-160H180v160Zm440 0h160v-160H620v160ZM180-180h160v-160H180v160Zm440 0h160v-160H620v160Z\"/>\n",
              "  </svg>\n",
              "    </button>\n",
              "\n",
              "  <style>\n",
              "    .colab-df-container {\n",
              "      display:flex;\n",
              "      gap: 12px;\n",
              "    }\n",
              "\n",
              "    .colab-df-convert {\n",
              "      background-color: #E8F0FE;\n",
              "      border: none;\n",
              "      border-radius: 50%;\n",
              "      cursor: pointer;\n",
              "      display: none;\n",
              "      fill: #1967D2;\n",
              "      height: 32px;\n",
              "      padding: 0 0 0 0;\n",
              "      width: 32px;\n",
              "    }\n",
              "\n",
              "    .colab-df-convert:hover {\n",
              "      background-color: #E2EBFA;\n",
              "      box-shadow: 0px 1px 2px rgba(60, 64, 67, 0.3), 0px 1px 3px 1px rgba(60, 64, 67, 0.15);\n",
              "      fill: #174EA6;\n",
              "    }\n",
              "\n",
              "    .colab-df-buttons div {\n",
              "      margin-bottom: 4px;\n",
              "    }\n",
              "\n",
              "    [theme=dark] .colab-df-convert {\n",
              "      background-color: #3B4455;\n",
              "      fill: #D2E3FC;\n",
              "    }\n",
              "\n",
              "    [theme=dark] .colab-df-convert:hover {\n",
              "      background-color: #434B5C;\n",
              "      box-shadow: 0px 1px 3px 1px rgba(0, 0, 0, 0.15);\n",
              "      filter: drop-shadow(0px 1px 2px rgba(0, 0, 0, 0.3));\n",
              "      fill: #FFFFFF;\n",
              "    }\n",
              "  </style>\n",
              "\n",
              "    <script>\n",
              "      const buttonEl =\n",
              "        document.querySelector('#df-1a93a285-c2b4-4583-b715-06e813032dee button.colab-df-convert');\n",
              "      buttonEl.style.display =\n",
              "        google.colab.kernel.accessAllowed ? 'block' : 'none';\n",
              "\n",
              "      async function convertToInteractive(key) {\n",
              "        const element = document.querySelector('#df-1a93a285-c2b4-4583-b715-06e813032dee');\n",
              "        const dataTable =\n",
              "          await google.colab.kernel.invokeFunction('convertToInteractive',\n",
              "                                                    [key], {});\n",
              "        if (!dataTable) return;\n",
              "\n",
              "        const docLinkHtml = 'Like what you see? Visit the ' +\n",
              "          '<a target=\"_blank\" href=https://colab.research.google.com/notebooks/data_table.ipynb>data table notebook</a>'\n",
              "          + ' to learn more about interactive tables.';\n",
              "        element.innerHTML = '';\n",
              "        dataTable['output_type'] = 'display_data';\n",
              "        await google.colab.output.renderOutput(dataTable, element);\n",
              "        const docLink = document.createElement('div');\n",
              "        docLink.innerHTML = docLinkHtml;\n",
              "        element.appendChild(docLink);\n",
              "      }\n",
              "    </script>\n",
              "  </div>\n",
              "\n",
              "\n",
              "<div id=\"df-fa3d9fcf-04b8-4a79-b3d0-d77362478464\">\n",
              "  <button class=\"colab-df-quickchart\" onclick=\"quickchart('df-fa3d9fcf-04b8-4a79-b3d0-d77362478464')\"\n",
              "            title=\"Suggest charts\"\n",
              "            style=\"display:none;\">\n",
              "\n",
              "<svg xmlns=\"http://www.w3.org/2000/svg\" height=\"24px\"viewBox=\"0 0 24 24\"\n",
              "     width=\"24px\">\n",
              "    <g>\n",
              "        <path d=\"M19 3H5c-1.1 0-2 .9-2 2v14c0 1.1.9 2 2 2h14c1.1 0 2-.9 2-2V5c0-1.1-.9-2-2-2zM9 17H7v-7h2v7zm4 0h-2V7h2v10zm4 0h-2v-4h2v4z\"/>\n",
              "    </g>\n",
              "</svg>\n",
              "  </button>\n",
              "\n",
              "<style>\n",
              "  .colab-df-quickchart {\n",
              "      --bg-color: #E8F0FE;\n",
              "      --fill-color: #1967D2;\n",
              "      --hover-bg-color: #E2EBFA;\n",
              "      --hover-fill-color: #174EA6;\n",
              "      --disabled-fill-color: #AAA;\n",
              "      --disabled-bg-color: #DDD;\n",
              "  }\n",
              "\n",
              "  [theme=dark] .colab-df-quickchart {\n",
              "      --bg-color: #3B4455;\n",
              "      --fill-color: #D2E3FC;\n",
              "      --hover-bg-color: #434B5C;\n",
              "      --hover-fill-color: #FFFFFF;\n",
              "      --disabled-bg-color: #3B4455;\n",
              "      --disabled-fill-color: #666;\n",
              "  }\n",
              "\n",
              "  .colab-df-quickchart {\n",
              "    background-color: var(--bg-color);\n",
              "    border: none;\n",
              "    border-radius: 50%;\n",
              "    cursor: pointer;\n",
              "    display: none;\n",
              "    fill: var(--fill-color);\n",
              "    height: 32px;\n",
              "    padding: 0;\n",
              "    width: 32px;\n",
              "  }\n",
              "\n",
              "  .colab-df-quickchart:hover {\n",
              "    background-color: var(--hover-bg-color);\n",
              "    box-shadow: 0 1px 2px rgba(60, 64, 67, 0.3), 0 1px 3px 1px rgba(60, 64, 67, 0.15);\n",
              "    fill: var(--button-hover-fill-color);\n",
              "  }\n",
              "\n",
              "  .colab-df-quickchart-complete:disabled,\n",
              "  .colab-df-quickchart-complete:disabled:hover {\n",
              "    background-color: var(--disabled-bg-color);\n",
              "    fill: var(--disabled-fill-color);\n",
              "    box-shadow: none;\n",
              "  }\n",
              "\n",
              "  .colab-df-spinner {\n",
              "    border: 2px solid var(--fill-color);\n",
              "    border-color: transparent;\n",
              "    border-bottom-color: var(--fill-color);\n",
              "    animation:\n",
              "      spin 1s steps(1) infinite;\n",
              "  }\n",
              "\n",
              "  @keyframes spin {\n",
              "    0% {\n",
              "      border-color: transparent;\n",
              "      border-bottom-color: var(--fill-color);\n",
              "      border-left-color: var(--fill-color);\n",
              "    }\n",
              "    20% {\n",
              "      border-color: transparent;\n",
              "      border-left-color: var(--fill-color);\n",
              "      border-top-color: var(--fill-color);\n",
              "    }\n",
              "    30% {\n",
              "      border-color: transparent;\n",
              "      border-left-color: var(--fill-color);\n",
              "      border-top-color: var(--fill-color);\n",
              "      border-right-color: var(--fill-color);\n",
              "    }\n",
              "    40% {\n",
              "      border-color: transparent;\n",
              "      border-right-color: var(--fill-color);\n",
              "      border-top-color: var(--fill-color);\n",
              "    }\n",
              "    60% {\n",
              "      border-color: transparent;\n",
              "      border-right-color: var(--fill-color);\n",
              "    }\n",
              "    80% {\n",
              "      border-color: transparent;\n",
              "      border-right-color: var(--fill-color);\n",
              "      border-bottom-color: var(--fill-color);\n",
              "    }\n",
              "    90% {\n",
              "      border-color: transparent;\n",
              "      border-bottom-color: var(--fill-color);\n",
              "    }\n",
              "  }\n",
              "</style>\n",
              "\n",
              "  <script>\n",
              "    async function quickchart(key) {\n",
              "      const quickchartButtonEl =\n",
              "        document.querySelector('#' + key + ' button');\n",
              "      quickchartButtonEl.disabled = true;  // To prevent multiple clicks.\n",
              "      quickchartButtonEl.classList.add('colab-df-spinner');\n",
              "      try {\n",
              "        const charts = await google.colab.kernel.invokeFunction(\n",
              "            'suggestCharts', [key], {});\n",
              "      } catch (error) {\n",
              "        console.error('Error during call to suggestCharts:', error);\n",
              "      }\n",
              "      quickchartButtonEl.classList.remove('colab-df-spinner');\n",
              "      quickchartButtonEl.classList.add('colab-df-quickchart-complete');\n",
              "    }\n",
              "    (() => {\n",
              "      let quickchartButtonEl =\n",
              "        document.querySelector('#df-fa3d9fcf-04b8-4a79-b3d0-d77362478464 button');\n",
              "      quickchartButtonEl.style.display =\n",
              "        google.colab.kernel.accessAllowed ? 'block' : 'none';\n",
              "    })();\n",
              "  </script>\n",
              "</div>\n",
              "\n",
              "    </div>\n",
              "  </div>\n"
            ]
          },
          "metadata": {},
          "execution_count": 5
        }
      ],
      "source": [
        "all_data = pd.read_csv(os.path.join(path, 'labels.csv'))\n",
        "all_data.head(5)"
      ]
    },
    {
      "cell_type": "markdown",
      "metadata": {
        "id": "M6DiNSKdCJ3x"
      },
      "source": [
        "It provides names of pictures and the corresponding labels. Let's convert 'id' to the actually path."
      ]
    },
    {
      "cell_type": "code",
      "execution_count": 6,
      "metadata": {
        "colab": {
          "base_uri": "https://localhost:8080/",
          "height": 206
        },
        "id": "j3D4vcX3phP3",
        "outputId": "676d568b-f5d8-4150-8add-a644b0538557"
      },
      "outputs": [
        {
          "output_type": "execute_result",
          "data": {
            "text/plain": [
              "                                                  id                  breed\n",
              "0  /content/drive/MyDrive/Project/Transformer_CV/...        Munchkin / 曼赤肯貓\n",
              "1  /content/drive/MyDrive/Project/Transformer_CV/...  American Curl / 美國卷耳貓\n",
              "2  /content/drive/MyDrive/Project/Transformer_CV/...           Birman / 伯曼貓\n",
              "3  /content/drive/MyDrive/Project/Transformer_CV/...   Russian Blue / 俄羅斯藍貓\n",
              "4  /content/drive/MyDrive/Project/Transformer_CV/...        Munchkin / 曼赤肯貓"
            ],
            "text/html": [
              "\n",
              "  <div id=\"df-46f7f351-7237-4408-9bab-54a782f4560c\" class=\"colab-df-container\">\n",
              "    <div>\n",
              "<style scoped>\n",
              "    .dataframe tbody tr th:only-of-type {\n",
              "        vertical-align: middle;\n",
              "    }\n",
              "\n",
              "    .dataframe tbody tr th {\n",
              "        vertical-align: top;\n",
              "    }\n",
              "\n",
              "    .dataframe thead th {\n",
              "        text-align: right;\n",
              "    }\n",
              "</style>\n",
              "<table border=\"1\" class=\"dataframe\">\n",
              "  <thead>\n",
              "    <tr style=\"text-align: right;\">\n",
              "      <th></th>\n",
              "      <th>id</th>\n",
              "      <th>breed</th>\n",
              "    </tr>\n",
              "  </thead>\n",
              "  <tbody>\n",
              "    <tr>\n",
              "      <th>0</th>\n",
              "      <td>/content/drive/MyDrive/Project/Transformer_CV/...</td>\n",
              "      <td>Munchkin / 曼赤肯貓</td>\n",
              "    </tr>\n",
              "    <tr>\n",
              "      <th>1</th>\n",
              "      <td>/content/drive/MyDrive/Project/Transformer_CV/...</td>\n",
              "      <td>American Curl / 美國卷耳貓</td>\n",
              "    </tr>\n",
              "    <tr>\n",
              "      <th>2</th>\n",
              "      <td>/content/drive/MyDrive/Project/Transformer_CV/...</td>\n",
              "      <td>Birman / 伯曼貓</td>\n",
              "    </tr>\n",
              "    <tr>\n",
              "      <th>3</th>\n",
              "      <td>/content/drive/MyDrive/Project/Transformer_CV/...</td>\n",
              "      <td>Russian Blue / 俄羅斯藍貓</td>\n",
              "    </tr>\n",
              "    <tr>\n",
              "      <th>4</th>\n",
              "      <td>/content/drive/MyDrive/Project/Transformer_CV/...</td>\n",
              "      <td>Munchkin / 曼赤肯貓</td>\n",
              "    </tr>\n",
              "  </tbody>\n",
              "</table>\n",
              "</div>\n",
              "    <div class=\"colab-df-buttons\">\n",
              "\n",
              "  <div class=\"colab-df-container\">\n",
              "    <button class=\"colab-df-convert\" onclick=\"convertToInteractive('df-46f7f351-7237-4408-9bab-54a782f4560c')\"\n",
              "            title=\"Convert this dataframe to an interactive table.\"\n",
              "            style=\"display:none;\">\n",
              "\n",
              "  <svg xmlns=\"http://www.w3.org/2000/svg\" height=\"24px\" viewBox=\"0 -960 960 960\">\n",
              "    <path d=\"M120-120v-720h720v720H120Zm60-500h600v-160H180v160Zm220 220h160v-160H400v160Zm0 220h160v-160H400v160ZM180-400h160v-160H180v160Zm440 0h160v-160H620v160ZM180-180h160v-160H180v160Zm440 0h160v-160H620v160Z\"/>\n",
              "  </svg>\n",
              "    </button>\n",
              "\n",
              "  <style>\n",
              "    .colab-df-container {\n",
              "      display:flex;\n",
              "      gap: 12px;\n",
              "    }\n",
              "\n",
              "    .colab-df-convert {\n",
              "      background-color: #E8F0FE;\n",
              "      border: none;\n",
              "      border-radius: 50%;\n",
              "      cursor: pointer;\n",
              "      display: none;\n",
              "      fill: #1967D2;\n",
              "      height: 32px;\n",
              "      padding: 0 0 0 0;\n",
              "      width: 32px;\n",
              "    }\n",
              "\n",
              "    .colab-df-convert:hover {\n",
              "      background-color: #E2EBFA;\n",
              "      box-shadow: 0px 1px 2px rgba(60, 64, 67, 0.3), 0px 1px 3px 1px rgba(60, 64, 67, 0.15);\n",
              "      fill: #174EA6;\n",
              "    }\n",
              "\n",
              "    .colab-df-buttons div {\n",
              "      margin-bottom: 4px;\n",
              "    }\n",
              "\n",
              "    [theme=dark] .colab-df-convert {\n",
              "      background-color: #3B4455;\n",
              "      fill: #D2E3FC;\n",
              "    }\n",
              "\n",
              "    [theme=dark] .colab-df-convert:hover {\n",
              "      background-color: #434B5C;\n",
              "      box-shadow: 0px 1px 3px 1px rgba(0, 0, 0, 0.15);\n",
              "      filter: drop-shadow(0px 1px 2px rgba(0, 0, 0, 0.3));\n",
              "      fill: #FFFFFF;\n",
              "    }\n",
              "  </style>\n",
              "\n",
              "    <script>\n",
              "      const buttonEl =\n",
              "        document.querySelector('#df-46f7f351-7237-4408-9bab-54a782f4560c button.colab-df-convert');\n",
              "      buttonEl.style.display =\n",
              "        google.colab.kernel.accessAllowed ? 'block' : 'none';\n",
              "\n",
              "      async function convertToInteractive(key) {\n",
              "        const element = document.querySelector('#df-46f7f351-7237-4408-9bab-54a782f4560c');\n",
              "        const dataTable =\n",
              "          await google.colab.kernel.invokeFunction('convertToInteractive',\n",
              "                                                    [key], {});\n",
              "        if (!dataTable) return;\n",
              "\n",
              "        const docLinkHtml = 'Like what you see? Visit the ' +\n",
              "          '<a target=\"_blank\" href=https://colab.research.google.com/notebooks/data_table.ipynb>data table notebook</a>'\n",
              "          + ' to learn more about interactive tables.';\n",
              "        element.innerHTML = '';\n",
              "        dataTable['output_type'] = 'display_data';\n",
              "        await google.colab.output.renderOutput(dataTable, element);\n",
              "        const docLink = document.createElement('div');\n",
              "        docLink.innerHTML = docLinkHtml;\n",
              "        element.appendChild(docLink);\n",
              "      }\n",
              "    </script>\n",
              "  </div>\n",
              "\n",
              "\n",
              "<div id=\"df-41f3a04a-c262-4e79-990d-280a2b0bfd8f\">\n",
              "  <button class=\"colab-df-quickchart\" onclick=\"quickchart('df-41f3a04a-c262-4e79-990d-280a2b0bfd8f')\"\n",
              "            title=\"Suggest charts\"\n",
              "            style=\"display:none;\">\n",
              "\n",
              "<svg xmlns=\"http://www.w3.org/2000/svg\" height=\"24px\"viewBox=\"0 0 24 24\"\n",
              "     width=\"24px\">\n",
              "    <g>\n",
              "        <path d=\"M19 3H5c-1.1 0-2 .9-2 2v14c0 1.1.9 2 2 2h14c1.1 0 2-.9 2-2V5c0-1.1-.9-2-2-2zM9 17H7v-7h2v7zm4 0h-2V7h2v10zm4 0h-2v-4h2v4z\"/>\n",
              "    </g>\n",
              "</svg>\n",
              "  </button>\n",
              "\n",
              "<style>\n",
              "  .colab-df-quickchart {\n",
              "      --bg-color: #E8F0FE;\n",
              "      --fill-color: #1967D2;\n",
              "      --hover-bg-color: #E2EBFA;\n",
              "      --hover-fill-color: #174EA6;\n",
              "      --disabled-fill-color: #AAA;\n",
              "      --disabled-bg-color: #DDD;\n",
              "  }\n",
              "\n",
              "  [theme=dark] .colab-df-quickchart {\n",
              "      --bg-color: #3B4455;\n",
              "      --fill-color: #D2E3FC;\n",
              "      --hover-bg-color: #434B5C;\n",
              "      --hover-fill-color: #FFFFFF;\n",
              "      --disabled-bg-color: #3B4455;\n",
              "      --disabled-fill-color: #666;\n",
              "  }\n",
              "\n",
              "  .colab-df-quickchart {\n",
              "    background-color: var(--bg-color);\n",
              "    border: none;\n",
              "    border-radius: 50%;\n",
              "    cursor: pointer;\n",
              "    display: none;\n",
              "    fill: var(--fill-color);\n",
              "    height: 32px;\n",
              "    padding: 0;\n",
              "    width: 32px;\n",
              "  }\n",
              "\n",
              "  .colab-df-quickchart:hover {\n",
              "    background-color: var(--hover-bg-color);\n",
              "    box-shadow: 0 1px 2px rgba(60, 64, 67, 0.3), 0 1px 3px 1px rgba(60, 64, 67, 0.15);\n",
              "    fill: var(--button-hover-fill-color);\n",
              "  }\n",
              "\n",
              "  .colab-df-quickchart-complete:disabled,\n",
              "  .colab-df-quickchart-complete:disabled:hover {\n",
              "    background-color: var(--disabled-bg-color);\n",
              "    fill: var(--disabled-fill-color);\n",
              "    box-shadow: none;\n",
              "  }\n",
              "\n",
              "  .colab-df-spinner {\n",
              "    border: 2px solid var(--fill-color);\n",
              "    border-color: transparent;\n",
              "    border-bottom-color: var(--fill-color);\n",
              "    animation:\n",
              "      spin 1s steps(1) infinite;\n",
              "  }\n",
              "\n",
              "  @keyframes spin {\n",
              "    0% {\n",
              "      border-color: transparent;\n",
              "      border-bottom-color: var(--fill-color);\n",
              "      border-left-color: var(--fill-color);\n",
              "    }\n",
              "    20% {\n",
              "      border-color: transparent;\n",
              "      border-left-color: var(--fill-color);\n",
              "      border-top-color: var(--fill-color);\n",
              "    }\n",
              "    30% {\n",
              "      border-color: transparent;\n",
              "      border-left-color: var(--fill-color);\n",
              "      border-top-color: var(--fill-color);\n",
              "      border-right-color: var(--fill-color);\n",
              "    }\n",
              "    40% {\n",
              "      border-color: transparent;\n",
              "      border-right-color: var(--fill-color);\n",
              "      border-top-color: var(--fill-color);\n",
              "    }\n",
              "    60% {\n",
              "      border-color: transparent;\n",
              "      border-right-color: var(--fill-color);\n",
              "    }\n",
              "    80% {\n",
              "      border-color: transparent;\n",
              "      border-right-color: var(--fill-color);\n",
              "      border-bottom-color: var(--fill-color);\n",
              "    }\n",
              "    90% {\n",
              "      border-color: transparent;\n",
              "      border-bottom-color: var(--fill-color);\n",
              "    }\n",
              "  }\n",
              "</style>\n",
              "\n",
              "  <script>\n",
              "    async function quickchart(key) {\n",
              "      const quickchartButtonEl =\n",
              "        document.querySelector('#' + key + ' button');\n",
              "      quickchartButtonEl.disabled = true;  // To prevent multiple clicks.\n",
              "      quickchartButtonEl.classList.add('colab-df-spinner');\n",
              "      try {\n",
              "        const charts = await google.colab.kernel.invokeFunction(\n",
              "            'suggestCharts', [key], {});\n",
              "      } catch (error) {\n",
              "        console.error('Error during call to suggestCharts:', error);\n",
              "      }\n",
              "      quickchartButtonEl.classList.remove('colab-df-spinner');\n",
              "      quickchartButtonEl.classList.add('colab-df-quickchart-complete');\n",
              "    }\n",
              "    (() => {\n",
              "      let quickchartButtonEl =\n",
              "        document.querySelector('#df-41f3a04a-c262-4e79-990d-280a2b0bfd8f button');\n",
              "      quickchartButtonEl.style.display =\n",
              "        google.colab.kernel.accessAllowed ? 'block' : 'none';\n",
              "    })();\n",
              "  </script>\n",
              "</div>\n",
              "\n",
              "    </div>\n",
              "  </div>\n"
            ]
          },
          "metadata": {},
          "execution_count": 6
        }
      ],
      "source": [
        "all_data['id'] = path + '/cats20/' + all_data['id']\n",
        "all_data.head(5)"
      ]
    },
    {
      "cell_type": "markdown",
      "metadata": {
        "id": "w6DWPMZzgqj8"
      },
      "source": [
        "## **2. EDA**\n",
        "'id' of each row is exactly the name of each picture. Using them we can read pictures from corresponding folders."
      ]
    },
    {
      "cell_type": "code",
      "source": [
        "breeds = all_data.breed.unique()\n",
        "id2label = {i: label for i, label in enumerate(breeds)}\n",
        "label2id = {v: k for k, v in id2label.items()}\n",
        "all_data['labels'] = all_data['breed'].map(label2id)\n",
        "y = all_data['breed'].to_frame()\n",
        "train_val, test_data, y_train_val, y_test = train_test_split(all_data.drop(\"breed\",axis =1), y, test_size=0.1, random_state=42, shuffle=True, stratify=y)\n",
        "train_data, val_data, y_train, y_val = train_test_split(train_val, y_train_val, test_size=0.11, random_state=42, shuffle=True, stratify=y_train_val)"
      ],
      "metadata": {
        "id": "E151v1BxdfwI"
      },
      "execution_count": 7,
      "outputs": []
    },
    {
      "cell_type": "code",
      "execution_count": 8,
      "metadata": {
        "colab": {
          "base_uri": "https://localhost:8080/"
        },
        "id": "2Ie51GedGsWs",
        "outputId": "f8b34f4b-b0e1-4630-c81d-ae07554f5c10"
      },
      "outputs": [
        {
          "output_type": "stream",
          "name": "stdout",
          "text": [
            "(8025, 2)\n",
            "(992, 2)\n",
            "(1002, 2)\n"
          ]
        }
      ],
      "source": [
        "print(train_data.shape)\n",
        "print(val_data.shape)\n",
        "print(test_data.shape)\n"
      ]
    },
    {
      "cell_type": "markdown",
      "metadata": {
        "id": "fWwqQa9m3rht"
      },
      "source": [
        "## **Pre-Trained Model**\n",
        "Before going to data preprocessing, we should take a look at the pre-trained model. Especially we want to look at format of its input and what it was trained for.\n",
        "\n"
      ]
    },
    {
      "cell_type": "markdown",
      "metadata": {
        "id": "woUjUxNRNBCy"
      },
      "source": [
        "### **Install**\n",
        "I will use vit provided by google, which is open sourced on [HuggingFace]()"
      ]
    },
    {
      "cell_type": "code",
      "execution_count": 9,
      "metadata": {
        "colab": {
          "base_uri": "https://localhost:8080/"
        },
        "id": "GTpjfGP94GWH",
        "outputId": "c75f8d5d-0134-4a8a-8a0a-cbd3d491ab4c"
      },
      "outputs": [
        {
          "output_type": "execute_result",
          "data": {
            "text/plain": [
              "ViTForImageClassification(\n",
              "  (vit): ViTModel(\n",
              "    (embeddings): ViTEmbeddings(\n",
              "      (patch_embeddings): ViTPatchEmbeddings(\n",
              "        (projection): Conv2d(3, 768, kernel_size=(16, 16), stride=(16, 16))\n",
              "      )\n",
              "      (dropout): Dropout(p=0.0, inplace=False)\n",
              "    )\n",
              "    (encoder): ViTEncoder(\n",
              "      (layer): ModuleList(\n",
              "        (0-11): 12 x ViTLayer(\n",
              "          (attention): ViTAttention(\n",
              "            (attention): ViTSelfAttention(\n",
              "              (query): Linear(in_features=768, out_features=768, bias=True)\n",
              "              (key): Linear(in_features=768, out_features=768, bias=True)\n",
              "              (value): Linear(in_features=768, out_features=768, bias=True)\n",
              "              (dropout): Dropout(p=0.0, inplace=False)\n",
              "            )\n",
              "            (output): ViTSelfOutput(\n",
              "              (dense): Linear(in_features=768, out_features=768, bias=True)\n",
              "              (dropout): Dropout(p=0.0, inplace=False)\n",
              "            )\n",
              "          )\n",
              "          (intermediate): ViTIntermediate(\n",
              "            (dense): Linear(in_features=768, out_features=3072, bias=True)\n",
              "            (intermediate_act_fn): GELUActivation()\n",
              "          )\n",
              "          (output): ViTOutput(\n",
              "            (dense): Linear(in_features=3072, out_features=768, bias=True)\n",
              "            (dropout): Dropout(p=0.0, inplace=False)\n",
              "          )\n",
              "          (layernorm_before): LayerNorm((768,), eps=1e-12, elementwise_affine=True)\n",
              "          (layernorm_after): LayerNorm((768,), eps=1e-12, elementwise_affine=True)\n",
              "        )\n",
              "      )\n",
              "    )\n",
              "    (layernorm): LayerNorm((768,), eps=1e-12, elementwise_affine=True)\n",
              "  )\n",
              "  (classifier): Linear(in_features=768, out_features=1000, bias=True)\n",
              ")"
            ]
          },
          "metadata": {},
          "execution_count": 9
        }
      ],
      "source": [
        "from transformers import AutoModelForImageClassification, AutoFeatureExtractor\n",
        "\n",
        "model_id = 'google/vit-base-patch16-224'\n",
        "device = torch.device('cuda' if torch.cuda.is_available() else 'cpu')\n",
        "model = AutoModelForImageClassification.from_pretrained(model_id).to(device)\n",
        "model.eval()"
      ]
    },
    {
      "cell_type": "code",
      "execution_count": 10,
      "metadata": {
        "id": "ub69tB5R9Mgh"
      },
      "outputs": [],
      "source": [
        "feature_extractor = AutoFeatureExtractor.from_pretrained(model_id)"
      ]
    },
    {
      "cell_type": "markdown",
      "metadata": {
        "id": "F6EtEPdnSrby"
      },
      "source": [
        "## **Preprocessing**\n",
        "Since I am going to use google vit as pre-trained model, every input must fit the format of google vit. As we saw in the last section, google vit has a bulit-in preprocess to read different size of pictures. Despite the convenience, I will do preprocessing by myself because of the following reasons:\n",
        "1. I want to train a model providing better results than google vit did in this specific task. Customed preprocessing allows us to try different strategies.\n",
        "2. As a side project, I want to make sure that I am familiar with all necessary steps and understand how every part could impact the final result."
      ]
    },
    {
      "cell_type": "markdown",
      "source": [
        "### **transform**"
      ],
      "metadata": {
        "id": "MGe6DryWUDJM"
      }
    },
    {
      "cell_type": "code",
      "execution_count": 11,
      "metadata": {
        "id": "6xPXnyFHXgzR"
      },
      "outputs": [],
      "source": [
        "input_size =feature_extractor.size\n",
        "mean = feature_extractor.image_mean\n",
        "std = feature_extractor.image_std"
      ]
    },
    {
      "cell_type": "code",
      "execution_count": 12,
      "metadata": {
        "id": "X3L-q7-iYFes"
      },
      "outputs": [],
      "source": [
        "train_transform = transforms.Compose([\n",
        "    transforms.RandomResizedCrop(input_size),\n",
        "    transforms.RandomHorizontalFlip(),\n",
        "    transforms.RandomRotation(degrees=5),\n",
        "    transforms.ToTensor(),\n",
        "    transforms.Normalize(mean=mean, std=std)\n",
        "    ])\n",
        "test_transform = transforms.Compose([\n",
        "    transforms.Resize(input_size),\n",
        "    transforms.CenterCrop(input_size),\n",
        "    transforms.ToTensor(),\n",
        "    transforms.Normalize(mean=mean, std=std)\n",
        "    ])"
      ]
    },
    {
      "cell_type": "markdown",
      "metadata": {
        "id": "sqnu96mqfvXF"
      },
      "source": [
        "### **Dataset/Dataloader**\n",
        "From [vit document](https://huggingface.co/docs/transformers/main/en/model_doc/vit#transformers.ViTForImageClassification) one can see that \"pixel_values\" and \"labels\" are two necessary inputs we should provide. Let's define dataset for following operations:\n",
        "1. from input dataframe['id'] extract path and read image\n",
        "2. transform images, the resultf will be in \"pixel_values\" column\n",
        "3. from input dataframe['breed'] extract label and store it to gpu\n",
        "4. return {\"pixel_values\":image, \"labels\",label}\n"
      ]
    },
    {
      "cell_type": "code",
      "source": [
        "class CustomImageDataset(Dataset):\n",
        "    def __init__(self, dataframe, transform=None):\n",
        "        self.data = dataframe.reset_index(drop=True)\n",
        "        self.transform = transform\n",
        "    def __len__(self):\n",
        "        return len(self.data)  # Number of images\n",
        "    def __getitem__(self, idx):\n",
        "        img_path = self.data.loc[idx, 'id']\n",
        "        image = Image.open(img_path).convert('RGB')\n",
        "\n",
        "        if self.transform:\n",
        "            image = self.transform(image)\n",
        "\n",
        "        label = torch.tensor(self.data.loc[idx, 'labels'], dtype=torch.long).to(device)  # Move label to GPU\n",
        "        return {\"pixel_values\": image, \"labels\": label}"
      ],
      "metadata": {
        "id": "taXrCsFaUpLy"
      },
      "execution_count": 13,
      "outputs": []
    },
    {
      "cell_type": "markdown",
      "source": [
        "Now we can prepare dataloader for training, validation and testing data. Some hyperparameters such as batch size and prefetch factor should be tested later."
      ],
      "metadata": {
        "id": "XEbrn0AjkHUb"
      }
    },
    {
      "cell_type": "code",
      "source": [
        "train_dataset = CustomImageDataset(train_data, transform=train_transform)\n",
        "val_dataset = CustomImageDataset(val_data, transform=test_transform)\n",
        "test_dataset = CustomImageDataset(test_data, transform=test_transform)"
      ],
      "metadata": {
        "id": "1PMHD6Pll3Yb"
      },
      "execution_count": 14,
      "outputs": []
    },
    {
      "cell_type": "markdown",
      "source": [
        "Let's construct another smaller dataloader for testing in the foloowing sections."
      ],
      "metadata": {
        "id": "4Zz-nRPinPS_"
      }
    },
    {
      "cell_type": "code",
      "source": [
        "batch_size = 64\n",
        "train_dataloader = DataLoader(train_dataset, batch_size=batch_size, shuffle=True, num_workers=0)\n",
        "val_dataloader = DataLoader(val_dataset, batch_size=batch_size, shuffle=False, num_workers=0)\n",
        "test_dataloader = DataLoader(test_dataset, batch_size=batch_size, shuffle=False, num_workers=0)\n"
      ],
      "metadata": {
        "id": "XkU7ar8g7j14"
      },
      "execution_count": 15,
      "outputs": []
    },
    {
      "cell_type": "markdown",
      "source": [
        "## **Load model**\n"
      ],
      "metadata": {
        "id": "SFHLEi4TjHfi"
      }
    },
    {
      "cell_type": "code",
      "source": [
        "fine_tune_model = torch.load('/content/drive/MyDrive/Project/Transformer_CV/models/model.pt')"
      ],
      "metadata": {
        "id": "jSNucuoMkgIb"
      },
      "execution_count": 16,
      "outputs": []
    },
    {
      "cell_type": "markdown",
      "source": [
        "## **Training**"
      ],
      "metadata": {
        "id": "KfPRJmLtsXSU"
      }
    },
    {
      "cell_type": "markdown",
      "source": [
        "We keep training by smaller learning rate.\n"
      ],
      "metadata": {
        "id": "NS89LY-bsaW9"
      }
    },
    {
      "cell_type": "markdown",
      "source": [
        "### **Import packages**"
      ],
      "metadata": {
        "id": "ZFRQRXfbGDJ0"
      }
    },
    {
      "cell_type": "code",
      "source": [
        "from transformers import TrainingArguments, Trainer, DataCollator\n",
        "from datasets import load_metric\n",
        "import tensorboard\n"
      ],
      "metadata": {
        "id": "7gnWZbfCu9iX"
      },
      "execution_count": 17,
      "outputs": []
    },
    {
      "cell_type": "code",
      "source": [
        "def collate_fn(batch):  ## reference: https://juejin.cn/post/7238148905095839804\n",
        "    return {\n",
        "        'pixel_values': torch.stack([x['pixel_values'] for x in batch]),\n",
        "        'labels': torch.tensor([x['labels'] for x in batch])\n",
        "    }\n",
        "\n",
        "metric = load_metric(\"accuracy\")\n",
        "def compute_metrics(p):\n",
        "    return metric.compute(predictions=np.argmax(p.predictions, axis=1), references=p.label_ids)"
      ],
      "metadata": {
        "id": "eZqMidkwz08a",
        "colab": {
          "base_uri": "https://localhost:8080/",
          "height": 49,
          "referenced_widgets": [
            "ce263060bead49b28c031ef6c0fbe7e4",
            "b863e42dbb0a4aa68041b881c3655353",
            "93ec52de90074d56a7d80fabd7c957bf",
            "c1a74ad71db24c46bbb4f6d1d571da92",
            "cf1b001a4cfc4d1ca34bc64925ad3205",
            "957f2c46438e43ba9f1a8dd530ee1f66",
            "32a706047ee44597a28f443451f4de45",
            "8daa8b6be7f74c0088e86ec410b27a42",
            "6324c4884c41497295de1fbad5920187",
            "3dd784c60f47455fbd9c9aa1dce7f2cb",
            "3f2c5d034eb240d3b9117e7832d304de"
          ]
        },
        "outputId": "aac59a6c-c3a9-4527-ecac-a3ed5bf6cd0b"
      },
      "execution_count": 18,
      "outputs": [
        {
          "output_type": "display_data",
          "data": {
            "text/plain": [
              "Downloading builder script:   0%|          | 0.00/1.65k [00:00<?, ?B/s]"
            ],
            "application/vnd.jupyter.widget-view+json": {
              "version_major": 2,
              "version_minor": 0,
              "model_id": "ce263060bead49b28c031ef6c0fbe7e4"
            }
          },
          "metadata": {}
        }
      ]
    },
    {
      "cell_type": "markdown",
      "source": [
        "### **Model training**"
      ],
      "metadata": {
        "id": "Is9VJoKnGIHd"
      }
    },
    {
      "cell_type": "code",
      "source": [
        "criterion = torch.nn.CrossEntropyLoss()\n",
        "optimizer = torch.optim.SGD(fine_tune_model.parameters(), lr=0.0005)\n",
        "# Training and Validation loop\n",
        "train_losses = []\n",
        "val_losses = []\n",
        "best_val_loss = float('inf')  # Set to positive infinity initially\n",
        "best_weights_path = 'best_model_weights.pth'\n",
        "\n",
        "num_epochs = 60\n",
        "for epoch in range(num_epochs):\n",
        "    # Training loop\n",
        "    fine_tune_model.train()\n",
        "    for train_data in train_dataloader:\n",
        "        inputs, labels = train_data['pixel_values'], train_data['labels']\n",
        "        inputs = inputs.to(device)\n",
        "        labels = labels.to(device)\n",
        "        optimizer.zero_grad()\n",
        "        outputs = fine_tune_model(inputs)\n",
        "        loss = criterion(outputs.logits, labels)\n",
        "        loss.backward()\n",
        "        optimizer.step()\n",
        "\n",
        "        # Cleanup GPU memory\n",
        "        del inputs, labels, outputs\n",
        "        torch.cuda.empty_cache()\n",
        "\n",
        "    # Validation loop\n",
        "    fine_tune_model.eval()\n",
        "    val_loss = 0.0\n",
        "    correct_predictions = 0\n",
        "    total_samples = 0\n",
        "\n",
        "    with torch.no_grad():\n",
        "      for val_data in val_dataloader:\n",
        "        val_inputs, val_labels = val_data['pixel_values'], val_data['labels']\n",
        "        val_inputs = val_inputs.to(device)\n",
        "        val_labels = val_labels.to(device)\n",
        "        val_outputs = fine_tune_model(val_inputs)\n",
        "\n",
        "        # Extract the logits tensor from ImageClassifierOutput\n",
        "        logits_tensor = val_outputs.logits\n",
        "\n",
        "        # Calculate the cross-entropy loss\n",
        "        val_loss += criterion(logits_tensor, val_labels).item()\n",
        "\n",
        "        _, predicted = torch.max(logits_tensor, 1)\n",
        "        correct_predictions += (predicted == val_labels).sum().item()\n",
        "        total_samples += val_labels.size(0)\n",
        "\n",
        "        # Cleanup GPU memory\n",
        "        del val_inputs, val_labels, logits_tensor\n",
        "        torch.cuda.empty_cache()\n",
        "\n",
        "    average_val_loss = val_loss / len(val_dataloader)\n",
        "\n",
        "    # Append training and validation losses to lists\n",
        "    train_losses.append(loss.item())\n",
        "    val_losses.append(average_val_loss)\n",
        "\n",
        "    accuracy = correct_predictions / total_samples\n",
        "\n",
        "    if average_val_loss < best_val_loss:\n",
        "      best_val_loss = average_val_loss\n",
        "\n",
        "            # Save the current best model weights\n",
        "      torch.save(fine_tune_model, '/content/drive/MyDrive/Project/Transformer_CV/models/model.pt')\n",
        "\n",
        "\n",
        "    # Print or log training and validation statistics for the epoch\n",
        "    print(f'Epoch {epoch+1}/{num_epochs}, Train Loss: {loss.item()}, Val Loss: {average_val_loss}, Accuracy: {accuracy}')\n",
        "\n",
        "# Plotting training and validation losses over epochs\n",
        "plt.plot(range(1, num_epochs + 1), train_losses, label='Training Loss')\n",
        "plt.plot(range(1, num_epochs + 1), val_losses, label='Validation Loss')\n",
        "plt.xlabel('Epoch')\n",
        "plt.ylabel('Loss')\n",
        "plt.legend()\n",
        "plt.show()\n",
        "\n",
        "print(best_val_loss)"
      ],
      "metadata": {
        "colab": {
          "base_uri": "https://localhost:8080/",
          "height": 1000
        },
        "id": "B-umr9nqF9We",
        "outputId": "b4f5d27c-2fce-4126-d3cc-94dc6850ae89"
      },
      "execution_count": 19,
      "outputs": [
        {
          "output_type": "stream",
          "name": "stdout",
          "text": [
            "Epoch 1/60, Train Loss: 0.785759449005127, Val Loss: 0.6238047480583191, Accuracy: 0.8235887096774194\n",
            "Epoch 2/60, Train Loss: 0.7472498416900635, Val Loss: 0.6194147206842899, Accuracy: 0.8266129032258065\n",
            "Epoch 3/60, Train Loss: 0.5797434449195862, Val Loss: 0.6139232199639082, Accuracy: 0.8296370967741935\n",
            "Epoch 4/60, Train Loss: 0.6543065905570984, Val Loss: 0.6097090318799019, Accuracy: 0.8245967741935484\n",
            "Epoch 5/60, Train Loss: 1.0709131956100464, Val Loss: 0.6065278071910143, Accuracy: 0.8286290322580645\n",
            "Epoch 6/60, Train Loss: 0.538526713848114, Val Loss: 0.6022908017039299, Accuracy: 0.8286290322580645\n",
            "Epoch 7/60, Train Loss: 0.8937051296234131, Val Loss: 0.5975089650601149, Accuracy: 0.8316532258064516\n",
            "Epoch 8/60, Train Loss: 0.75498366355896, Val Loss: 0.5932747330516577, Accuracy: 0.8336693548387096\n",
            "Epoch 9/60, Train Loss: 0.6960527300834656, Val Loss: 0.5899194143712521, Accuracy: 0.8336693548387096\n",
            "Epoch 10/60, Train Loss: 0.795235812664032, Val Loss: 0.5860333200544119, Accuracy: 0.8366935483870968\n",
            "Epoch 11/60, Train Loss: 0.6264294981956482, Val Loss: 0.5815244447439909, Accuracy: 0.8356854838709677\n",
            "Epoch 12/60, Train Loss: 0.7425239682197571, Val Loss: 0.5772726330906153, Accuracy: 0.8407258064516129\n",
            "Epoch 13/60, Train Loss: 0.8203383684158325, Val Loss: 0.5745523851364851, Accuracy: 0.8397177419354839\n",
            "Epoch 14/60, Train Loss: 0.40110355615615845, Val Loss: 0.5701978988945484, Accuracy: 0.8417338709677419\n",
            "Epoch 15/60, Train Loss: 0.5424361824989319, Val Loss: 0.5669984128326178, Accuracy: 0.844758064516129\n",
            "Epoch 16/60, Train Loss: 0.5989607572555542, Val Loss: 0.563192468136549, Accuracy: 0.842741935483871\n",
            "Epoch 17/60, Train Loss: 0.8206748366355896, Val Loss: 0.5592196453362703, Accuracy: 0.844758064516129\n",
            "Epoch 18/60, Train Loss: 0.7097414135932922, Val Loss: 0.5569996852427721, Accuracy: 0.8457661290322581\n",
            "Epoch 19/60, Train Loss: 0.69673752784729, Val Loss: 0.5529982130974531, Accuracy: 0.8467741935483871\n",
            "Epoch 20/60, Train Loss: 0.6657159328460693, Val Loss: 0.5487957578152418, Accuracy: 0.8467741935483871\n",
            "Epoch 21/60, Train Loss: 0.9275490045547485, Val Loss: 0.5455735698342323, Accuracy: 0.8487903225806451\n",
            "Epoch 22/60, Train Loss: 0.7075292468070984, Val Loss: 0.5423514787107706, Accuracy: 0.8457661290322581\n",
            "Epoch 23/60, Train Loss: 0.8624331951141357, Val Loss: 0.5384851042181253, Accuracy: 0.8487903225806451\n",
            "Epoch 24/60, Train Loss: 0.5711983442306519, Val Loss: 0.5355232376605272, Accuracy: 0.8467741935483871\n",
            "Epoch 25/60, Train Loss: 0.735868513584137, Val Loss: 0.532906187698245, Accuracy: 0.8457661290322581\n",
            "Epoch 26/60, Train Loss: 0.9536356329917908, Val Loss: 0.5300203431397676, Accuracy: 0.8457661290322581\n",
            "Epoch 27/60, Train Loss: 0.7178359031677246, Val Loss: 0.5277347974479198, Accuracy: 0.8467741935483871\n",
            "Epoch 28/60, Train Loss: 0.7335619330406189, Val Loss: 0.5246858932077885, Accuracy: 0.8457661290322581\n",
            "Epoch 29/60, Train Loss: 0.42007744312286377, Val Loss: 0.5222962163388729, Accuracy: 0.8487903225806451\n",
            "Epoch 30/60, Train Loss: 0.41121262311935425, Val Loss: 0.5193786881864071, Accuracy: 0.8497983870967742\n",
            "Epoch 31/60, Train Loss: 0.5732935070991516, Val Loss: 0.5167850963771343, Accuracy: 0.8497983870967742\n",
            "Epoch 32/60, Train Loss: 0.6951512098312378, Val Loss: 0.513811282813549, Accuracy: 0.8528225806451613\n",
            "Epoch 33/60, Train Loss: 0.6873538494110107, Val Loss: 0.5106398239731789, Accuracy: 0.8508064516129032\n",
            "Epoch 34/60, Train Loss: 0.7011592984199524, Val Loss: 0.508461257442832, Accuracy: 0.8558467741935484\n",
            "Epoch 35/60, Train Loss: 0.6133471131324768, Val Loss: 0.5061416253447533, Accuracy: 0.8538306451612904\n",
            "Epoch 36/60, Train Loss: 0.7015802264213562, Val Loss: 0.5030685719102621, Accuracy: 0.8558467741935484\n",
            "Epoch 37/60, Train Loss: 0.5927815437316895, Val Loss: 0.5013862270861864, Accuracy: 0.8568548387096774\n",
            "Epoch 38/60, Train Loss: 0.7699699401855469, Val Loss: 0.49930274672806263, Accuracy: 0.8538306451612904\n",
            "Epoch 39/60, Train Loss: 0.3459257483482361, Val Loss: 0.4964107722043991, Accuracy: 0.8578629032258065\n",
            "Epoch 40/60, Train Loss: 0.692425012588501, Val Loss: 0.49335440807044506, Accuracy: 0.8598790322580645\n",
            "Epoch 41/60, Train Loss: 0.797864556312561, Val Loss: 0.4914338756352663, Accuracy: 0.8598790322580645\n",
            "Epoch 42/60, Train Loss: 0.6484538912773132, Val Loss: 0.4894333519041538, Accuracy: 0.8588709677419355\n",
            "Epoch 43/60, Train Loss: 0.7062566876411438, Val Loss: 0.48614885099232197, Accuracy: 0.8588709677419355\n",
            "Epoch 44/60, Train Loss: 0.34901562333106995, Val Loss: 0.4833664335310459, Accuracy: 0.8608870967741935\n",
            "Epoch 45/60, Train Loss: 0.3875604271888733, Val Loss: 0.48120368272066116, Accuracy: 0.8639112903225806\n",
            "Epoch 46/60, Train Loss: 0.7833852171897888, Val Loss: 0.4797937646508217, Accuracy: 0.8649193548387096\n",
            "Epoch 47/60, Train Loss: 0.659821629524231, Val Loss: 0.47787913121283054, Accuracy: 0.8629032258064516\n",
            "Epoch 48/60, Train Loss: 0.39350372552871704, Val Loss: 0.47510134242475033, Accuracy: 0.8639112903225806\n",
            "Epoch 49/60, Train Loss: 0.6168191432952881, Val Loss: 0.4733222648501396, Accuracy: 0.8639112903225806\n",
            "Epoch 50/60, Train Loss: 0.7267035841941833, Val Loss: 0.4718320667743683, Accuracy: 0.8649193548387096\n",
            "Epoch 51/60, Train Loss: 0.45810145139694214, Val Loss: 0.4689269047230482, Accuracy: 0.8639112903225806\n",
            "Epoch 52/60, Train Loss: 0.6545456051826477, Val Loss: 0.4666398521512747, Accuracy: 0.8649193548387096\n",
            "Epoch 53/60, Train Loss: 0.452202707529068, Val Loss: 0.4655869212001562, Accuracy: 0.8629032258064516\n",
            "Epoch 54/60, Train Loss: 0.6208089590072632, Val Loss: 0.4644950721412897, Accuracy: 0.8659274193548387\n",
            "Epoch 55/60, Train Loss: 0.5458995699882507, Val Loss: 0.4621527437120676, Accuracy: 0.8639112903225806\n",
            "Epoch 56/60, Train Loss: 0.6960397362709045, Val Loss: 0.46018367633223534, Accuracy: 0.8659274193548387\n",
            "Epoch 57/60, Train Loss: 0.33903807401657104, Val Loss: 0.45765955559909344, Accuracy: 0.8669354838709677\n",
            "Epoch 58/60, Train Loss: 0.7187110185623169, Val Loss: 0.45634448155760765, Accuracy: 0.8679435483870968\n",
            "Epoch 59/60, Train Loss: 0.48948031663894653, Val Loss: 0.454297112300992, Accuracy: 0.8689516129032258\n",
            "Epoch 60/60, Train Loss: 0.6841529607772827, Val Loss: 0.45345798693597317, Accuracy: 0.8689516129032258\n"
          ]
        },
        {
          "output_type": "display_data",
          "data": {
            "text/plain": [
              "<Figure size 640x480 with 1 Axes>"
            ],
            "image/png": "[encoded data removed]"
          },
          "metadata": {}
        },
        {
          "output_type": "stream",
          "name": "stdout",
          "text": [
            "0.45345798693597317\n"
          ]
        }
      ]
    },
    {
      "cell_type": "code",
      "source": [
        "optimizer = torch.optim.SGD(fine_tune_model.parameters(), lr=0.0025)\n",
        "# Training and Validation loop\n",
        "train_losses = []\n",
        "val_losses = []\n",
        "num_epochs = 30\n",
        "for epoch in range(num_epochs):\n",
        "    # Training loop\n",
        "    fine_tune_model.train()\n",
        "    for train_data in train_dataloader:\n",
        "        inputs, labels = train_data['pixel_values'], train_data['labels']\n",
        "        inputs = inputs.to(device)\n",
        "        labels = labels.to(device)\n",
        "        optimizer.zero_grad()\n",
        "        outputs = fine_tune_model(inputs)\n",
        "        loss = criterion(outputs.logits, labels)\n",
        "        loss.backward()\n",
        "        optimizer.step()\n",
        "\n",
        "        # Cleanup GPU memory\n",
        "        del inputs, labels, outputs\n",
        "        torch.cuda.empty_cache()\n",
        "\n",
        "    # Validation loop\n",
        "    fine_tune_model.eval()\n",
        "    val_loss = 0.0\n",
        "    correct_predictions = 0\n",
        "    total_samples = 0\n",
        "\n",
        "    with torch.no_grad():\n",
        "      for val_data in val_dataloader:\n",
        "        val_inputs, val_labels = val_data['pixel_values'], val_data['labels']\n",
        "        val_inputs = val_inputs.to(device)\n",
        "        val_labels = val_labels.to(device)\n",
        "        val_outputs = fine_tune_model(val_inputs)\n",
        "\n",
        "        # Extract the logits tensor from ImageClassifierOutput\n",
        "        logits_tensor = val_outputs.logits\n",
        "\n",
        "        # Calculate the cross-entropy loss\n",
        "        val_loss += criterion(logits_tensor, val_labels).item()\n",
        "\n",
        "        _, predicted = torch.max(logits_tensor, 1)\n",
        "        correct_predictions += (predicted == val_labels).sum().item()\n",
        "        total_samples += val_labels.size(0)\n",
        "\n",
        "        # Cleanup GPU memory\n",
        "        del val_inputs, val_labels, logits_tensor\n",
        "        torch.cuda.empty_cache()\n",
        "\n",
        "    average_val_loss = val_loss / len(val_dataloader)\n",
        "\n",
        "    # Append training and validation losses to lists\n",
        "    train_losses.append(loss.item())\n",
        "    val_losses.append(average_val_loss)\n",
        "\n",
        "    accuracy = correct_predictions / total_samples\n",
        "\n",
        "    if average_val_loss < best_val_loss:\n",
        "      best_val_loss = average_val_loss\n",
        "\n",
        "            # Save the current best model weights\n",
        "      torch.save(fine_tune_model, '/content/drive/MyDrive/Project/Transformer_CV/models/model.pt')\n",
        "\n",
        "\n",
        "    # Print or log training and validation statistics for the epoch\n",
        "    print(f'Epoch {epoch+1}/{num_epochs}, Train Loss: {loss.item()}, Val Loss: {average_val_loss}, Accuracy: {accuracy}')\n",
        "\n",
        "# Plotting training and validation losses over epochs\n",
        "plt.plot(range(1, num_epochs + 1), train_losses, label='Training Loss')\n",
        "plt.plot(range(1, num_epochs + 1), val_losses, label='Validation Loss')\n",
        "plt.xlabel('Epoch')\n",
        "plt.ylabel('Loss')\n",
        "plt.legend()\n",
        "plt.show()\n",
        "\n",
        "print(best_val_loss)"
      ],
      "metadata": {
        "colab": {
          "base_uri": "https://localhost:8080/",
          "height": 987
        },
        "id": "tIxSiCt6grv2",
        "outputId": "43969e78-7a3a-4a84-b00e-32f2813ca841"
      },
      "execution_count": 20,
      "outputs": [
        {
          "output_type": "stream",
          "name": "stdout",
          "text": [
            "Epoch 1/30, Train Loss: 0.4175107181072235, Val Loss: 0.44567301869392395, Accuracy: 0.8719758064516129\n",
            "Epoch 2/30, Train Loss: 0.7140920162200928, Val Loss: 0.4339196477085352, Accuracy: 0.8709677419354839\n",
            "Epoch 3/30, Train Loss: 0.222598135471344, Val Loss: 0.42904409393668175, Accuracy: 0.8659274193548387\n",
            "Epoch 4/30, Train Loss: 0.7280155420303345, Val Loss: 0.42226330004632473, Accuracy: 0.8689516129032258\n",
            "Epoch 5/30, Train Loss: 0.5819069147109985, Val Loss: 0.4127493090927601, Accuracy: 0.8669354838709677\n",
            "Epoch 6/30, Train Loss: 0.39808768033981323, Val Loss: 0.40973478741943836, Accuracy: 0.8770161290322581\n",
            "Epoch 7/30, Train Loss: 0.4114876985549927, Val Loss: 0.3983179535716772, Accuracy: 0.8780241935483871\n",
            "Epoch 8/30, Train Loss: 0.3971545398235321, Val Loss: 0.3943073274567723, Accuracy: 0.8790322580645161\n",
            "Epoch 9/30, Train Loss: 0.5944018363952637, Val Loss: 0.38826207164675, Accuracy: 0.8860887096774194\n",
            "Epoch 10/30, Train Loss: 0.38549086451530457, Val Loss: 0.38590947818011045, Accuracy: 0.8800403225806451\n",
            "Epoch 11/30, Train Loss: 0.4931201934814453, Val Loss: 0.37942564114928246, Accuracy: 0.8810483870967742\n",
            "Epoch 12/30, Train Loss: 0.29016196727752686, Val Loss: 0.3791604917496443, Accuracy: 0.8840725806451613\n",
            "Epoch 13/30, Train Loss: 0.2966412305831909, Val Loss: 0.3719829246401787, Accuracy: 0.8820564516129032\n",
            "Epoch 14/30, Train Loss: 0.5780577659606934, Val Loss: 0.36893588583916426, Accuracy: 0.8820564516129032\n",
            "Epoch 15/30, Train Loss: 0.2891252338886261, Val Loss: 0.36273528169840574, Accuracy: 0.8810483870967742\n",
            "Epoch 16/30, Train Loss: 0.5231313109397888, Val Loss: 0.3596263835206628, Accuracy: 0.8860887096774194\n",
            "Epoch 17/30, Train Loss: 0.546434223651886, Val Loss: 0.3634176831692457, Accuracy: 0.8830645161290323\n",
            "Epoch 18/30, Train Loss: 0.4997093975543976, Val Loss: 0.3573854360729456, Accuracy: 0.8941532258064516\n",
            "Epoch 19/30, Train Loss: 0.2815154790878296, Val Loss: 0.355457435362041, Accuracy: 0.8860887096774194\n",
            "Epoch 20/30, Train Loss: 0.3465573191642761, Val Loss: 0.3528397986665368, Accuracy: 0.8860887096774194\n",
            "Epoch 21/30, Train Loss: 0.1988457292318344, Val Loss: 0.35164146684110165, Accuracy: 0.8911290322580645\n",
            "Epoch 22/30, Train Loss: 0.3235107660293579, Val Loss: 0.3475733334198594, Accuracy: 0.8971774193548387\n",
            "Epoch 23/30, Train Loss: 0.27922603487968445, Val Loss: 0.34315245039761066, Accuracy: 0.8891129032258065\n",
            "Epoch 24/30, Train Loss: 0.17933061718940735, Val Loss: 0.3440098203718662, Accuracy: 0.8860887096774194\n",
            "Epoch 25/30, Train Loss: 0.391765832901001, Val Loss: 0.33806409034878016, Accuracy: 0.8931451612903226\n",
            "Epoch 26/30, Train Loss: 0.2582990825176239, Val Loss: 0.33459226600825787, Accuracy: 0.8921370967741935\n",
            "Epoch 27/30, Train Loss: 0.47462528944015503, Val Loss: 0.3336986945942044, Accuracy: 0.8971774193548387\n",
            "Epoch 28/30, Train Loss: 0.4247037470340729, Val Loss: 0.32929600216448307, Accuracy: 0.8901209677419355\n",
            "Epoch 29/30, Train Loss: 0.5183345675468445, Val Loss: 0.3331469828262925, Accuracy: 0.8921370967741935\n",
            "Epoch 30/30, Train Loss: 0.4175403118133545, Val Loss: 0.33217693865299225, Accuracy: 0.8941532258064516\n"
          ]
        },
        {
          "output_type": "display_data",
          "data": {
            "text/plain": [
              "<Figure size 640x480 with 1 Axes>"
            ],
            "image/png": "[encoded data removed]"
          },
          "metadata": {}
        },
        {
          "output_type": "stream",
          "name": "stdout",
          "text": [
            "0.32929600216448307\n"
          ]
        }
      ]
    },
    {
      "cell_type": "code",
      "source": [
        "optimizer = torch.optim.SGD(fine_tune_model.parameters(), lr=0.003)\n",
        "# Training and Validation loop\n",
        "train_losses = []\n",
        "val_losses = []\n",
        "\n",
        "num_epochs = 10\n",
        "for epoch in range(num_epochs):\n",
        "    # Training loop\n",
        "    fine_tune_model.train()\n",
        "    for train_data in train_dataloader:\n",
        "        inputs, labels = train_data['pixel_values'], train_data['labels']\n",
        "        inputs = inputs.to(device)\n",
        "        labels = labels.to(device)\n",
        "        optimizer.zero_grad()\n",
        "        outputs = fine_tune_model(inputs)\n",
        "        loss = criterion(outputs.logits, labels)\n",
        "        loss.backward()\n",
        "        optimizer.step()\n",
        "\n",
        "        # Cleanup GPU memory\n",
        "        del inputs, labels, outputs\n",
        "        torch.cuda.empty_cache()\n",
        "\n",
        "    # Validation loop\n",
        "    fine_tune_model.eval()\n",
        "    val_loss = 0.0\n",
        "    correct_predictions = 0\n",
        "    total_samples = 0\n",
        "\n",
        "    with torch.no_grad():\n",
        "      for val_data in val_dataloader:\n",
        "        val_inputs, val_labels = val_data['pixel_values'], val_data['labels']\n",
        "        val_inputs = val_inputs.to(device)\n",
        "        val_labels = val_labels.to(device)\n",
        "        val_outputs = fine_tune_model(val_inputs)\n",
        "\n",
        "        # Extract the logits tensor from ImageClassifierOutput\n",
        "        logits_tensor = val_outputs.logits\n",
        "\n",
        "        # Calculate the cross-entropy loss\n",
        "        val_loss += criterion(logits_tensor, val_labels).item()\n",
        "\n",
        "        _, predicted = torch.max(logits_tensor, 1)\n",
        "        correct_predictions += (predicted == val_labels).sum().item()\n",
        "        total_samples += val_labels.size(0)\n",
        "\n",
        "        # Cleanup GPU memory\n",
        "        del val_inputs, val_labels, logits_tensor\n",
        "        torch.cuda.empty_cache()\n",
        "\n",
        "    average_val_loss = val_loss / len(val_dataloader)\n",
        "\n",
        "    # Append training and validation losses to lists\n",
        "    train_losses.append(loss.item())\n",
        "    val_losses.append(average_val_loss)\n",
        "\n",
        "    accuracy = correct_predictions / total_samples\n",
        "\n",
        "    if average_val_loss < best_val_loss:\n",
        "      best_val_loss = average_val_loss\n",
        "\n",
        "            # Save the current best model weights\n",
        "      torch.save(fine_tune_model, '/content/drive/MyDrive/Project/Transformer_CV/models/model.pt')\n",
        "\n",
        "\n",
        "    # Print or log training and validation statistics for the epoch\n",
        "    print(f'Epoch {epoch+1}/{num_epochs}, Train Loss: {loss.item()}, Val Loss: {average_val_loss}, Accuracy: {accuracy}')\n",
        "\n",
        "# Plotting training and validation losses over epochs\n",
        "plt.plot(range(1, num_epochs + 1), train_losses, label='Training Loss')\n",
        "plt.plot(range(1, num_epochs + 1), val_losses, label='Validation Loss')\n",
        "plt.xlabel('Epoch')\n",
        "plt.ylabel('Loss')\n",
        "plt.legend()\n",
        "plt.show()\n",
        "\n",
        "print(best_val_loss)"
      ],
      "metadata": {
        "colab": {
          "base_uri": "https://localhost:8080/",
          "height": 640
        },
        "id": "wgSdy34YHvNA",
        "outputId": "3f381597-fb78-44db-f489-0770da89ee5f"
      },
      "execution_count": 21,
      "outputs": [
        {
          "output_type": "stream",
          "name": "stdout",
          "text": [
            "Epoch 1/10, Train Loss: 0.16496622562408447, Val Loss: 0.32514663413167, Accuracy: 0.8991935483870968\n",
            "Epoch 2/10, Train Loss: 0.6158511638641357, Val Loss: 0.3259831489995122, Accuracy: 0.8911290322580645\n",
            "Epoch 3/10, Train Loss: 0.20047615468502045, Val Loss: 0.3202114850282669, Accuracy: 0.8901209677419355\n",
            "Epoch 4/10, Train Loss: 0.3198099136352539, Val Loss: 0.320441716350615, Accuracy: 0.8951612903225806\n",
            "Epoch 5/10, Train Loss: 0.36230140924453735, Val Loss: 0.3224339568987489, Accuracy: 0.8941532258064516\n",
            "Epoch 6/10, Train Loss: 0.7399352192878723, Val Loss: 0.31561674550175667, Accuracy: 0.9002016129032258\n",
            "Epoch 7/10, Train Loss: 0.5323154926300049, Val Loss: 0.3153929403051734, Accuracy: 0.8911290322580645\n",
            "Epoch 8/10, Train Loss: 0.2309568226337433, Val Loss: 0.3105395808815956, Accuracy: 0.9012096774193549\n",
            "Epoch 9/10, Train Loss: 0.2505825459957123, Val Loss: 0.309506974183023, Accuracy: 0.8981854838709677\n",
            "Epoch 10/10, Train Loss: 0.344109445810318, Val Loss: 0.30926533322781324, Accuracy: 0.905241935483871\n"
          ]
        },
        {
          "output_type": "display_data",
          "data": {
            "text/plain": [
              "<Figure size 640x480 with 1 Axes>"
            ],
            "image/png": "[encoded data removed]"
          },
          "metadata": {}
        },
        {
          "output_type": "stream",
          "name": "stdout",
          "text": [
            "0.30926533322781324\n"
          ]
        }
      ]
    },
    {
      "cell_type": "code",
      "source": [
        "optimizer = torch.optim.SGD(fine_tune_model.parameters(), lr=0.005)\n",
        "# Training and Validation loop\n",
        "train_losses = []\n",
        "val_losses = []\n",
        "\n",
        "num_epochs = 10\n",
        "for epoch in range(num_epochs):\n",
        "    # Training loop\n",
        "    fine_tune_model.train()\n",
        "    for train_data in train_dataloader:\n",
        "        inputs, labels = train_data['pixel_values'], train_data['labels']\n",
        "        inputs = inputs.to(device)\n",
        "        labels = labels.to(device)\n",
        "        optimizer.zero_grad()\n",
        "        outputs = fine_tune_model(inputs)\n",
        "        loss = criterion(outputs.logits, labels)\n",
        "        loss.backward()\n",
        "        optimizer.step()\n",
        "\n",
        "        # Cleanup GPU memory\n",
        "        del inputs, labels, outputs\n",
        "        torch.cuda.empty_cache()\n",
        "\n",
        "    # Validation loop\n",
        "    fine_tune_model.eval()\n",
        "    val_loss = 0.0\n",
        "    correct_predictions = 0\n",
        "    total_samples = 0\n",
        "\n",
        "    with torch.no_grad():\n",
        "      for val_data in val_dataloader:\n",
        "        val_inputs, val_labels = val_data['pixel_values'], val_data['labels']\n",
        "        val_inputs = val_inputs.to(device)\n",
        "        val_labels = val_labels.to(device)\n",
        "        val_outputs = fine_tune_model(val_inputs)\n",
        "\n",
        "        # Extract the logits tensor from ImageClassifierOutput\n",
        "        logits_tensor = val_outputs.logits\n",
        "\n",
        "        # Calculate the cross-entropy loss\n",
        "        val_loss += criterion(logits_tensor, val_labels).item()\n",
        "\n",
        "        _, predicted = torch.max(logits_tensor, 1)\n",
        "        correct_predictions += (predicted == val_labels).sum().item()\n",
        "        total_samples += val_labels.size(0)\n",
        "\n",
        "        # Cleanup GPU memory\n",
        "        del val_inputs, val_labels, logits_tensor\n",
        "        torch.cuda.empty_cache()\n",
        "\n",
        "    average_val_loss = val_loss / len(val_dataloader)\n",
        "\n",
        "    # Append training and validation losses to lists\n",
        "    train_losses.append(loss.item())\n",
        "    val_losses.append(average_val_loss)\n",
        "\n",
        "    accuracy = correct_predictions / total_samples\n",
        "\n",
        "    if average_val_loss < best_val_loss:\n",
        "      best_val_loss = average_val_loss\n",
        "\n",
        "            # Save the current best model weights\n",
        "      torch.save(fine_tune_model, '/content/drive/MyDrive/Project/Transformer_CV/models/model.pt')\n",
        "\n",
        "\n",
        "    # Print or log training and validation statistics for the epoch\n",
        "    print(f'Epoch {epoch+1}/{num_epochs}, Train Loss: {loss.item()}, Val Loss: {average_val_loss}, Accuracy: {accuracy}')\n",
        "\n",
        "# Plotting training and validation losses over epochs\n",
        "plt.plot(range(1, num_epochs + 1), train_losses, label='Training Loss')\n",
        "plt.plot(range(1, num_epochs + 1), val_losses, label='Validation Loss')\n",
        "plt.xlabel('Epoch')\n",
        "plt.ylabel('Loss')\n",
        "plt.legend()\n",
        "plt.show()\n",
        "\n",
        "print(best_val_loss)"
      ],
      "metadata": {
        "colab": {
          "base_uri": "https://localhost:8080/",
          "height": 640
        },
        "id": "u66yhDj0Ryl3",
        "outputId": "9d8b9f7c-9f44-449a-8841-d967d216f42a"
      },
      "execution_count": 22,
      "outputs": [
        {
          "metadata": {
            "tags": null
          },
          "name": "stdout",
          "output_type": "stream",
          "text": [
            "Epoch 1/10, Train Loss: 0.31364601850509644, Val Loss: 0.30997838359326124, Accuracy: 0.9002016129032258\n",
            "Epoch 2/10, Train Loss: 0.47708263993263245, Val Loss: 0.31168030574917793, Accuracy: 0.9012096774193549\n",
            "Epoch 3/10, Train Loss: 0.5226779580116272, Val Loss: 0.29763058479875326, Accuracy: 0.9032258064516129\n",
            "Epoch 4/10, Train Loss: 0.26944682002067566, Val Loss: 0.30745990481227636, Accuracy: 0.8961693548387096\n",
            "Epoch 5/10, Train Loss: 0.25157320499420166, Val Loss: 0.30463495291769505, Accuracy: 0.8991935483870968\n",
            "Epoch 6/10, Train Loss: 0.07871608436107635, Val Loss: 0.30220009479671717, Accuracy: 0.8931451612903226\n",
            "Epoch 7/10, Train Loss: 0.49413570761680603, Val Loss: 0.30154728796333075, Accuracy: 0.8951612903225806\n",
            "Epoch 8/10, Train Loss: 0.20451989769935608, Val Loss: 0.2947653168812394, Accuracy: 0.9042338709677419\n",
            "Epoch 9/10, Train Loss: 0.4596984088420868, Val Loss: 0.2934424029663205, Accuracy: 0.9012096774193549\n",
            "Epoch 10/10, Train Loss: 0.0928213894367218, Val Loss: 0.3008122593164444, Accuracy: 0.8971774193548387\n"
          ]
        },
        {
          "data": {
            "image/png": "[encoded data removed]",
            "text/plain": [
              "<Figure size 640x480 with 1 Axes>"
            ]
          },
          "metadata": {},
          "output_type": "display_data"
        },
        {
          "metadata": {
            "tags": null
          },
          "name": "stdout",
          "output_type": "stream",
          "text": [
            "0.2934424029663205\n"
          ]
        }
      ]
    },
    {
      "cell_type": "markdown",
      "source": [
        "After 175 epochs, validation loss stops to decrease and we get ~90% accuracy. It is possible that the model is trapped at a saddle point or local minimum. We can do some experiment to try to escape. Some idea:\n",
        "1. Adjust learning rate and batch size.\n",
        "2. Try other optimizers\n",
        "3. Try other loss functions.\n",
        "\n",
        "Firstly I will try the approach 1. If it doesn'y work then nextly we try approach 2.\n",
        "\n"
      ],
      "metadata": {
        "id": "_jEa7M7SbPol"
      }
    },
    {
      "cell_type": "code",
      "source": [
        "small_train_dataloader = DataLoader(train_dataset, batch_size=32, shuffle=True, num_workers=0)\n",
        "small_val_dataloader = DataLoader(val_dataset, batch_size=32, shuffle=False, num_workers=0)"
      ],
      "metadata": {
        "id": "EcDbmBk8cMwS"
      },
      "execution_count": 24,
      "outputs": []
    },
    {
      "cell_type": "code",
      "source": [
        "optimizer = torch.optim.SGD(fine_tune_model.parameters(), lr=0.001)\n",
        "# Training and Validation loop\n",
        "train_losses = []\n",
        "val_losses = []\n",
        "\n",
        "num_epochs = 15\n",
        "for epoch in range(num_epochs):\n",
        "    # Training loop\n",
        "    fine_tune_model.train()\n",
        "    for train_data in small_train_dataloader:\n",
        "        inputs, labels = train_data['pixel_values'], train_data['labels']\n",
        "        inputs = inputs.to(device)\n",
        "        labels = labels.to(device)\n",
        "        optimizer.zero_grad()\n",
        "        outputs = fine_tune_model(inputs)\n",
        "        loss = criterion(outputs.logits, labels)\n",
        "        loss.backward()\n",
        "        optimizer.step()\n",
        "\n",
        "        # Cleanup GPU memory\n",
        "        del inputs, labels, outputs\n",
        "        torch.cuda.empty_cache()\n",
        "\n",
        "    # Validation loop\n",
        "    fine_tune_model.eval()\n",
        "    val_loss = 0.0\n",
        "    correct_predictions = 0\n",
        "    total_samples = 0\n",
        "\n",
        "    with torch.no_grad():\n",
        "      for val_data in small_val_dataloader:\n",
        "        val_inputs, val_labels = val_data['pixel_values'], val_data['labels']\n",
        "        val_inputs = val_inputs.to(device)\n",
        "        val_labels = val_labels.to(device)\n",
        "        val_outputs = fine_tune_model(val_inputs)\n",
        "\n",
        "        # Extract the logits tensor from ImageClassifierOutput\n",
        "        logits_tensor = val_outputs.logits\n",
        "\n",
        "        # Calculate the cross-entropy loss\n",
        "        val_loss += criterion(logits_tensor, val_labels).item()\n",
        "\n",
        "        _, predicted = torch.max(logits_tensor, 1)\n",
        "        correct_predictions += (predicted == val_labels).sum().item()\n",
        "        total_samples += val_labels.size(0)\n",
        "\n",
        "        # Cleanup GPU memory\n",
        "        del val_inputs, val_labels, logits_tensor\n",
        "        torch.cuda.empty_cache()\n",
        "\n",
        "    average_val_loss = val_loss / len(small_val_dataloader)\n",
        "\n",
        "    # Append training and validation losses to lists\n",
        "    train_losses.append(loss.item())\n",
        "    val_losses.append(average_val_loss)\n",
        "\n",
        "    accuracy = correct_predictions / total_samples\n",
        "\n",
        "    if average_val_loss < best_val_loss:\n",
        "      best_val_loss = average_val_loss\n",
        "\n",
        "            # Save the current best model weights\n",
        "      torch.save(fine_tune_model, '/content/drive/MyDrive/Project/Transformer_CV/models/model.pt')\n",
        "\n",
        "\n",
        "    # Print or log training and validation statistics for the epoch\n",
        "    print(f'Epoch {epoch+1}/{num_epochs}, Train Loss: {loss.item()}, Val Loss: {average_val_loss}, Accuracy: {accuracy}')\n",
        "\n",
        "# Plotting training and validation losses over epochs\n",
        "plt.plot(range(1, num_epochs + 1), train_losses, label='Training Loss')\n",
        "plt.plot(range(1, num_epochs + 1), val_losses, label='Validation Loss')\n",
        "plt.xlabel('Epoch')\n",
        "plt.ylabel('Loss')\n",
        "plt.legend()\n",
        "plt.show()\n",
        "\n",
        "print(best_val_loss)"
      ],
      "metadata": {
        "colab": {
          "base_uri": "https://localhost:8080/",
          "height": 727
        },
        "id": "AU6zqQIccYZo",
        "outputId": "6514a3da-f221-485c-e4b5-7852ee621260"
      },
      "execution_count": 25,
      "outputs": [
        {
          "output_type": "stream",
          "name": "stdout",
          "text": [
            "Epoch 1/15, Train Loss: 0.8930004835128784, Val Loss: 0.29731085175468075, Accuracy: 0.8991935483870968\n",
            "Epoch 2/15, Train Loss: 0.34011298418045044, Val Loss: 0.2971850780229415, Accuracy: 0.9002016129032258\n",
            "Epoch 3/15, Train Loss: 0.10416951775550842, Val Loss: 0.29572826071131614, Accuracy: 0.8991935483870968\n",
            "Epoch 4/15, Train Loss: 0.21290279924869537, Val Loss: 0.2957625182405595, Accuracy: 0.9022177419354839\n",
            "Epoch 5/15, Train Loss: 0.2062247395515442, Val Loss: 0.2967843028806871, Accuracy: 0.8971774193548387\n",
            "Epoch 6/15, Train Loss: 0.22333377599716187, Val Loss: 0.29727638945464163, Accuracy: 0.8961693548387096\n",
            "Epoch 7/15, Train Loss: 0.5037443041801453, Val Loss: 0.2953373304297847, Accuracy: 0.8971774193548387\n",
            "Epoch 8/15, Train Loss: 0.28393203020095825, Val Loss: 0.29462377654929317, Accuracy: 0.9012096774193549\n",
            "Epoch 9/15, Train Loss: 0.35468587279319763, Val Loss: 0.2958991969785383, Accuracy: 0.8961693548387096\n",
            "Epoch 10/15, Train Loss: 0.19929607212543488, Val Loss: 0.2933470258308995, Accuracy: 0.8971774193548387\n",
            "Epoch 11/15, Train Loss: 0.22530370950698853, Val Loss: 0.2939197151891647, Accuracy: 0.9002016129032258\n",
            "Epoch 12/15, Train Loss: 0.15562164783477783, Val Loss: 0.29043212364758214, Accuracy: 0.8991935483870968\n",
            "Epoch 13/15, Train Loss: 0.36594146490097046, Val Loss: 0.2902966783412041, Accuracy: 0.9042338709677419\n",
            "Epoch 14/15, Train Loss: 0.2545901834964752, Val Loss: 0.2870869324091942, Accuracy: 0.8991935483870968\n",
            "Epoch 15/15, Train Loss: 0.06757403165102005, Val Loss: 0.2854341095493686, Accuracy: 0.9002016129032258\n"
          ]
        },
        {
          "output_type": "display_data",
          "data": {
            "text/plain": [
              "<Figure size 640x480 with 1 Axes>"
            ],
            "image/png": "[encoded data removed]"
          },
          "metadata": {}
        },
        {
          "output_type": "stream",
          "name": "stdout",
          "text": [
            "0.2854341095493686\n"
          ]
        }
      ]
    },
    {
      "cell_type": "markdown",
      "source": [
        "It seems to work so let's do another 15 epcoh"
      ],
      "metadata": {
        "id": "siTMz0WXtisz"
      }
    },
    {
      "cell_type": "code",
      "source": [
        "optimizer = torch.optim.SGD(fine_tune_model.parameters(), lr=0.002)\n",
        "# Training and Validation loop\n",
        "train_losses = []\n",
        "val_losses = []\n",
        "\n",
        "num_epochs = 15\n",
        "for epoch in range(num_epochs):\n",
        "    # Training loop\n",
        "    fine_tune_model.train()\n",
        "    for train_data in small_train_dataloader:\n",
        "        inputs, labels = train_data['pixel_values'], train_data['labels']\n",
        "        inputs = inputs.to(device)\n",
        "        labels = labels.to(device)\n",
        "        optimizer.zero_grad()\n",
        "        outputs = fine_tune_model(inputs)\n",
        "        loss = criterion(outputs.logits, labels)\n",
        "        loss.backward()\n",
        "        optimizer.step()\n",
        "\n",
        "        # Cleanup GPU memory\n",
        "        del inputs, labels, outputs\n",
        "        torch.cuda.empty_cache()\n",
        "\n",
        "    # Validation loop\n",
        "    fine_tune_model.eval()\n",
        "    val_loss = 0.0\n",
        "    correct_predictions = 0\n",
        "    total_samples = 0\n",
        "\n",
        "    with torch.no_grad():\n",
        "      for val_data in small_val_dataloader:\n",
        "        val_inputs, val_labels = val_data['pixel_values'], val_data['labels']\n",
        "        val_inputs = val_inputs.to(device)\n",
        "        val_labels = val_labels.to(device)\n",
        "        val_outputs = fine_tune_model(val_inputs)\n",
        "\n",
        "        # Extract the logits tensor from ImageClassifierOutput\n",
        "        logits_tensor = val_outputs.logits\n",
        "\n",
        "        # Calculate the cross-entropy loss\n",
        "        val_loss += criterion(logits_tensor, val_labels).item()\n",
        "\n",
        "        _, predicted = torch.max(logits_tensor, 1)\n",
        "        correct_predictions += (predicted == val_labels).sum().item()\n",
        "        total_samples += val_labels.size(0)\n",
        "\n",
        "        # Cleanup GPU memory\n",
        "        del val_inputs, val_labels, logits_tensor\n",
        "        torch.cuda.empty_cache()\n",
        "\n",
        "    average_val_loss = val_loss / len(small_val_dataloader)\n",
        "\n",
        "    # Append training and validation losses to lists\n",
        "    train_losses.append(loss.item())\n",
        "    val_losses.append(average_val_loss)\n",
        "\n",
        "    accuracy = correct_predictions / total_samples\n",
        "\n",
        "    if average_val_loss < best_val_loss:\n",
        "      best_val_loss = average_val_loss\n",
        "\n",
        "            # Save the current best model weights\n",
        "      torch.save(fine_tune_model, '/content/drive/MyDrive/Project/Transformer_CV/models/model.pt')\n",
        "\n",
        "\n",
        "    # Print or log training and validation statistics for the epoch\n",
        "    print(f'Epoch {epoch+1}/{num_epochs}, Train Loss: {loss.item()}, Val Loss: {average_val_loss}, Accuracy: {accuracy}')\n",
        "\n",
        "# Plotting training and validation losses over epochs\n",
        "plt.plot(range(1, num_epochs + 1), train_losses, label='Training Loss')\n",
        "plt.plot(range(1, num_epochs + 1), val_losses, label='Validation Loss')\n",
        "plt.xlabel('Epoch')\n",
        "plt.ylabel('Loss')\n",
        "plt.legend()\n",
        "plt.show()\n",
        "\n",
        "print(best_val_loss)"
      ],
      "metadata": {
        "colab": {
          "base_uri": "https://localhost:8080/",
          "height": 727
        },
        "id": "xBzoiBlYtrCB",
        "outputId": "27cb389a-ad45-4aba-d614-7dcc7eb96988"
      },
      "execution_count": 26,
      "outputs": [
        {
          "output_type": "stream",
          "name": "stdout",
          "text": [
            "Epoch 1/15, Train Loss: 0.5573562979698181, Val Loss: 0.28664041839299664, Accuracy: 0.9022177419354839\n",
            "Epoch 2/15, Train Loss: 0.08787225931882858, Val Loss: 0.2850506180717099, Accuracy: 0.9032258064516129\n",
            "Epoch 3/15, Train Loss: 0.12119026482105255, Val Loss: 0.2841566068030173, Accuracy: 0.8991935483870968\n",
            "Epoch 4/15, Train Loss: 0.16122132539749146, Val Loss: 0.28328850168374275, Accuracy: 0.9032258064516129\n",
            "Epoch 5/15, Train Loss: 0.20680999755859375, Val Loss: 0.28436111803016356, Accuracy: 0.9032258064516129\n",
            "Epoch 6/15, Train Loss: 0.3324774503707886, Val Loss: 0.28604913022248973, Accuracy: 0.907258064516129\n",
            "Epoch 7/15, Train Loss: 0.17629383504390717, Val Loss: 0.2883139531458578, Accuracy: 0.907258064516129\n",
            "Epoch 8/15, Train Loss: 0.031010787934064865, Val Loss: 0.28589231977539675, Accuracy: 0.9082661290322581\n",
            "Epoch 9/15, Train Loss: 0.13148076832294464, Val Loss: 0.28415710839533037, Accuracy: 0.9112903225806451\n",
            "Epoch 10/15, Train Loss: 0.06505829840898514, Val Loss: 0.283936376773542, Accuracy: 0.9022177419354839\n",
            "Epoch 11/15, Train Loss: 0.1456020623445511, Val Loss: 0.2761051582713281, Accuracy: 0.90625\n",
            "Epoch 12/15, Train Loss: 0.39962273836135864, Val Loss: 0.2795750883317763, Accuracy: 0.9102822580645161\n",
            "Epoch 13/15, Train Loss: 0.17591702938079834, Val Loss: 0.28016803942380414, Accuracy: 0.905241935483871\n",
            "Epoch 14/15, Train Loss: 0.27622345089912415, Val Loss: 0.27810268320383563, Accuracy: 0.90625\n",
            "Epoch 15/15, Train Loss: 0.29040899872779846, Val Loss: 0.2816704004522293, Accuracy: 0.9042338709677419\n"
          ]
        },
        {
          "output_type": "display_data",
          "data": {
            "text/plain": [
              "<Figure size 640x480 with 1 Axes>"
            ],
            "image/png": "[encoded data removed]"
          },
          "metadata": {}
        },
        {
          "output_type": "stream",
          "name": "stdout",
          "text": [
            "0.2761051582713281\n"
          ]
        }
      ]
    },
    {
      "cell_type": "markdown",
      "source": [
        "Training loss is still oscillating. Let's setup smaller learning rate and restore the larger batch size."
      ],
      "metadata": {
        "id": "rQADYOyN79uL"
      }
    },
    {
      "cell_type": "code",
      "source": [
        "optimizer = torch.optim.SGD(fine_tune_model.parameters(), lr=0.0001)\n",
        "# Training and Validation loop\n",
        "train_losses = []\n",
        "val_losses = []\n",
        "\n",
        "num_epochs = 15\n",
        "for epoch in range(num_epochs):\n",
        "    # Training loop\n",
        "    fine_tune_model.train()\n",
        "    for train_data in train_dataloader:\n",
        "        inputs, labels = train_data['pixel_values'], train_data['labels']\n",
        "        inputs = inputs.to(device)\n",
        "        labels = labels.to(device)\n",
        "        optimizer.zero_grad()\n",
        "        outputs = fine_tune_model(inputs)\n",
        "        loss = criterion(outputs.logits, labels)\n",
        "        loss.backward()\n",
        "        optimizer.step()\n",
        "\n",
        "        # Cleanup GPU memory\n",
        "        del inputs, labels, outputs\n",
        "        torch.cuda.empty_cache()\n",
        "\n",
        "    # Validation loop\n",
        "    fine_tune_model.eval()\n",
        "    val_loss = 0.0\n",
        "    correct_predictions = 0\n",
        "    total_samples = 0\n",
        "\n",
        "    with torch.no_grad():\n",
        "      for val_data in val_dataloader:\n",
        "        val_inputs, val_labels = val_data['pixel_values'], val_data['labels']\n",
        "        val_inputs = val_inputs.to(device)\n",
        "        val_labels = val_labels.to(device)\n",
        "        val_outputs = fine_tune_model(val_inputs)\n",
        "\n",
        "        # Extract the logits tensor from ImageClassifierOutput\n",
        "        logits_tensor = val_outputs.logits\n",
        "\n",
        "        # Calculate the cross-entropy loss\n",
        "        val_loss += criterion(logits_tensor, val_labels).item()\n",
        "\n",
        "        _, predicted = torch.max(logits_tensor, 1)\n",
        "        correct_predictions += (predicted == val_labels).sum().item()\n",
        "        total_samples += val_labels.size(0)\n",
        "\n",
        "        # Cleanup GPU memory\n",
        "        del val_inputs, val_labels, logits_tensor\n",
        "        torch.cuda.empty_cache()\n",
        "\n",
        "    average_val_loss = val_loss / len(val_dataloader)\n",
        "\n",
        "    # Append training and validation losses to lists\n",
        "    train_losses.append(loss.item())\n",
        "    val_losses.append(average_val_loss)\n",
        "\n",
        "    accuracy = correct_predictions / total_samples\n",
        "\n",
        "    if average_val_loss < best_val_loss:\n",
        "      best_val_loss = average_val_loss\n",
        "\n",
        "            # Save the current best model weights\n",
        "      torch.save(fine_tune_model, '/content/drive/MyDrive/Project/Transformer_CV/models/model.pt')\n",
        "\n",
        "\n",
        "    # Print or log training and validation statistics for the epoch\n",
        "    print(f'Epoch {epoch+1}/{num_epochs}, Train Loss: {loss.item()}, Val Loss: {average_val_loss}, Accuracy: {accuracy}')\n",
        "\n",
        "# Plotting training and validation losses over epochs\n",
        "plt.plot(range(1, num_epochs + 1), train_losses, label='Training Loss')\n",
        "plt.plot(range(1, num_epochs + 1), val_losses, label='Validation Loss')\n",
        "plt.xlabel('Epoch')\n",
        "plt.ylabel('Loss')\n",
        "plt.legend()\n",
        "plt.show()\n",
        "\n",
        "print(best_val_loss)"
      ],
      "metadata": {
        "colab": {
          "base_uri": "https://localhost:8080/",
          "height": 727
        },
        "id": "zXjH0XTy79Ge",
        "outputId": "9cd8a333-ff3a-41b0-e7a8-11a7cab523d3"
      },
      "execution_count": 27,
      "outputs": [
        {
          "output_type": "stream",
          "name": "stdout",
          "text": [
            "Epoch 1/15, Train Loss: 0.18800164759159088, Val Loss: 0.27738715521991253, Accuracy: 0.90625\n",
            "Epoch 2/15, Train Loss: 0.2205759435892105, Val Loss: 0.2757266638800502, Accuracy: 0.905241935483871\n",
            "Epoch 3/15, Train Loss: 0.21600745618343353, Val Loss: 0.2747092042118311, Accuracy: 0.907258064516129\n",
            "Epoch 4/15, Train Loss: 0.40444305539131165, Val Loss: 0.27404805086553097, Accuracy: 0.9092741935483871\n",
            "Epoch 5/15, Train Loss: 0.08718804270029068, Val Loss: 0.2735297936014831, Accuracy: 0.9102822580645161\n",
            "Epoch 6/15, Train Loss: 0.15672023594379425, Val Loss: 0.27319951448589563, Accuracy: 0.9082661290322581\n",
            "Epoch 7/15, Train Loss: 0.14995723962783813, Val Loss: 0.2728319363668561, Accuracy: 0.907258064516129\n",
            "Epoch 8/15, Train Loss: 0.37238118052482605, Val Loss: 0.27312647830694914, Accuracy: 0.9082661290322581\n",
            "Epoch 9/15, Train Loss: 0.1322697103023529, Val Loss: 0.27305192220956087, Accuracy: 0.90625\n",
            "Epoch 10/15, Train Loss: 0.5507441163063049, Val Loss: 0.27298807445913553, Accuracy: 0.907258064516129\n",
            "Epoch 11/15, Train Loss: 0.2415468543767929, Val Loss: 0.27280683629214764, Accuracy: 0.905241935483871\n",
            "Epoch 12/15, Train Loss: 0.21241731941699982, Val Loss: 0.27284075878560543, Accuracy: 0.90625\n",
            "Epoch 13/15, Train Loss: 0.05574231222271919, Val Loss: 0.2729684836231172, Accuracy: 0.905241935483871\n",
            "Epoch 14/15, Train Loss: 0.1304544359445572, Val Loss: 0.27255812706425786, Accuracy: 0.905241935483871\n",
            "Epoch 15/15, Train Loss: 0.39417195320129395, Val Loss: 0.2725079976953566, Accuracy: 0.907258064516129\n"
          ]
        },
        {
          "output_type": "display_data",
          "data": {
            "text/plain": [
              "<Figure size 640x480 with 1 Axes>"
            ],
            "image/png": "[encoded data removed]"
          },
          "metadata": {}
        },
        {
          "output_type": "stream",
          "name": "stdout",
          "text": [
            "0.2725079976953566\n"
          ]
        }
      ]
    },
    {
      "cell_type": "code",
      "source": [
        "fine_tune_model = torch.load('/content/drive/MyDrive/Project/Transformer_CV/models/model.pt')"
      ],
      "metadata": {
        "id": "dKTJAIzHOgm3"
      },
      "execution_count": 29,
      "outputs": []
    },
    {
      "cell_type": "code",
      "source": [
        "optimizer = torch.optim.SGD(fine_tune_model.parameters(), lr=0.0001)\n",
        "# Training and Validation loop\n",
        "train_losses = []\n",
        "val_losses = []\n",
        "\n",
        "num_epochs = 15\n",
        "for epoch in range(num_epochs):\n",
        "    # Training loop\n",
        "    fine_tune_model.train()\n",
        "    for train_data in train_dataloader:\n",
        "        inputs, labels = train_data['pixel_values'], train_data['labels']\n",
        "        inputs = inputs.to(device)\n",
        "        labels = labels.to(device)\n",
        "        optimizer.zero_grad()\n",
        "        outputs = fine_tune_model(inputs)\n",
        "        loss = criterion(outputs.logits, labels)\n",
        "        loss.backward()\n",
        "        optimizer.step()\n",
        "\n",
        "        # Cleanup GPU memory\n",
        "        del inputs, labels, outputs\n",
        "        torch.cuda.empty_cache()\n",
        "\n",
        "    # Validation loop\n",
        "    fine_tune_model.eval()\n",
        "    val_loss = 0.0\n",
        "    correct_predictions = 0\n",
        "    total_samples = 0\n",
        "\n",
        "    with torch.no_grad():\n",
        "      for val_data in val_dataloader:\n",
        "        val_inputs, val_labels = val_data['pixel_values'], val_data['labels']\n",
        "        val_inputs = val_inputs.to(device)\n",
        "        val_labels = val_labels.to(device)\n",
        "        val_outputs = fine_tune_model(val_inputs)\n",
        "\n",
        "        # Extract the logits tensor from ImageClassifierOutput\n",
        "        logits_tensor = val_outputs.logits\n",
        "\n",
        "        # Calculate the cross-entropy loss\n",
        "        val_loss += criterion(logits_tensor, val_labels).item()\n",
        "\n",
        "        _, predicted = torch.max(logits_tensor, 1)\n",
        "        correct_predictions += (predicted == val_labels).sum().item()\n",
        "        total_samples += val_labels.size(0)\n",
        "\n",
        "        # Cleanup GPU memory\n",
        "        del val_inputs, val_labels, logits_tensor\n",
        "        torch.cuda.empty_cache()\n",
        "\n",
        "    average_val_loss = val_loss / len(val_dataloader)\n",
        "\n",
        "    # Append training and validation losses to lists\n",
        "    train_losses.append(loss.item())\n",
        "    val_losses.append(average_val_loss)\n",
        "\n",
        "    accuracy = correct_predictions / total_samples\n",
        "\n",
        "    if average_val_loss < best_val_loss:\n",
        "      best_val_loss = average_val_loss\n",
        "\n",
        "            # Save the current best model weights\n",
        "      torch.save(fine_tune_model, '/content/drive/MyDrive/Project/Transformer_CV/models/model.pt')\n",
        "\n",
        "\n",
        "    # Print or log training and validation statistics for the epoch\n",
        "    print(f'Epoch {epoch+1}/{num_epochs}, Train Loss: {loss.item()}, Val Loss: {average_val_loss}, Accuracy: {accuracy}')\n",
        "\n",
        "# Plotting training and validation losses over epochs\n",
        "plt.plot(range(1, num_epochs + 1), train_losses, label='Training Loss')\n",
        "plt.plot(range(1, num_epochs + 1), val_losses, label='Validation Loss')\n",
        "plt.xlabel('Epoch')\n",
        "plt.ylabel('Loss')\n",
        "plt.legend()\n",
        "plt.show()\n",
        "\n",
        "print(best_val_loss)"
      ],
      "metadata": {
        "colab": {
          "base_uri": "https://localhost:8080/",
          "height": 727
        },
        "outputId": "2061f877-2aa1-4ec2-9445-7194cf067b7f",
        "id": "jDKmpaR3OkcB"
      },
      "execution_count": 30,
      "outputs": [
        {
          "output_type": "stream",
          "name": "stdout",
          "text": [
            "Epoch 1/15, Train Loss: 0.2187327742576599, Val Loss: 0.27250712364912033, Accuracy: 0.907258064516129\n",
            "Epoch 2/15, Train Loss: 0.326185405254364, Val Loss: 0.2727542445063591, Accuracy: 0.9082661290322581\n",
            "Epoch 3/15, Train Loss: 0.13790111243724823, Val Loss: 0.27279913565143943, Accuracy: 0.9082661290322581\n",
            "Epoch 4/15, Train Loss: 0.22105489671230316, Val Loss: 0.27265632525086403, Accuracy: 0.90625\n",
            "Epoch 5/15, Train Loss: 0.25133687257766724, Val Loss: 0.27272122213616967, Accuracy: 0.907258064516129\n",
            "Epoch 6/15, Train Loss: 0.4793636202812195, Val Loss: 0.27294697100296617, Accuracy: 0.907258064516129\n",
            "Epoch 7/15, Train Loss: 0.18891316652297974, Val Loss: 0.2729119095019996, Accuracy: 0.907258064516129\n",
            "Epoch 8/15, Train Loss: 0.0639515221118927, Val Loss: 0.2728775478899479, Accuracy: 0.90625\n",
            "Epoch 9/15, Train Loss: 0.12392421811819077, Val Loss: 0.2729293159209192, Accuracy: 0.9092741935483871\n",
            "Epoch 10/15, Train Loss: 0.34111666679382324, Val Loss: 0.27276722295209765, Accuracy: 0.9082661290322581\n",
            "Epoch 11/15, Train Loss: 0.22924205660820007, Val Loss: 0.27288180962204933, Accuracy: 0.9082661290322581\n",
            "Epoch 12/15, Train Loss: 0.6492746472358704, Val Loss: 0.27263467432931066, Accuracy: 0.90625\n",
            "Epoch 13/15, Train Loss: 0.3450665771961212, Val Loss: 0.2731522098183632, Accuracy: 0.9092741935483871\n",
            "Epoch 14/15, Train Loss: 0.17186065018177032, Val Loss: 0.2729264316149056, Accuracy: 0.907258064516129\n",
            "Epoch 15/15, Train Loss: 0.16239812970161438, Val Loss: 0.27302564261481166, Accuracy: 0.907258064516129\n"
          ]
        },
        {
          "output_type": "display_data",
          "data": {
            "text/plain": [
              "<Figure size 640x480 with 1 Axes>"
            ],
            "image/png": "[encoded data removed]"
          },
          "metadata": {}
        },
        {
          "output_type": "stream",
          "name": "stdout",
          "text": [
            "0.27250712364912033\n"
          ]
        }
      ]
    },
    {
      "cell_type": "markdown",
      "source": [
        "We can see that validation loss already converges. It means that we may not be able to improve model by push it through more epoch. However, I want to utlize all data to train the final model--this gives us the best expectation of model performance. To do so, I will train the model on the whole train_val dataset and use test dataset to evaluate it. If this process doesn't ruin everything then we use all dataset to train the final model by the same way.  "
      ],
      "metadata": {
        "id": "fi_I4vj3cCY9"
      }
    },
    {
      "cell_type": "code",
      "source": [
        "train_val_dataset = CustomImageDataset(train_val, transform=train_transform)\n",
        "train_val_dataloader = DataLoader(train_val_dataset, batch_size=batch_size, shuffle=True)"
      ],
      "metadata": {
        "id": "JBvVC5r3c4eR"
      },
      "execution_count": 31,
      "outputs": []
    },
    {
      "cell_type": "code",
      "source": [
        "optimizer = torch.optim.SGD(fine_tune_model.parameters(), lr=0.0001)\n",
        "# Training and Validation loop\n",
        "train_losses = []\n",
        "val_losses = []\n",
        "\n",
        "num_epochs = 15\n",
        "for epoch in range(num_epochs):\n",
        "    # Training loop\n",
        "    fine_tune_model.train()\n",
        "    for train_data in train_val_dataloader:\n",
        "        inputs, labels = train_data['pixel_values'], train_data['labels']\n",
        "        inputs = inputs.to(device)\n",
        "        labels = labels.to(device)\n",
        "        optimizer.zero_grad()\n",
        "        outputs = fine_tune_model(inputs)\n",
        "        loss = criterion(outputs.logits, labels)\n",
        "        loss.backward()\n",
        "        optimizer.step()\n",
        "\n",
        "        # Cleanup GPU memory\n",
        "        del inputs, labels, outputs\n",
        "        torch.cuda.empty_cache()\n",
        "\n",
        "    # Validation loop\n",
        "    fine_tune_model.eval()\n",
        "    val_loss = 0.0\n",
        "    correct_predictions = 0\n",
        "    total_samples = 0\n",
        "\n",
        "    with torch.no_grad():\n",
        "      for val_data in test_dataloader:\n",
        "        val_inputs, val_labels = val_data['pixel_values'], val_data['labels']\n",
        "        val_inputs = val_inputs.to(device)\n",
        "        val_labels = val_labels.to(device)\n",
        "        val_outputs = fine_tune_model(val_inputs)\n",
        "\n",
        "        # Extract the logits tensor from ImageClassifierOutput\n",
        "        logits_tensor = val_outputs.logits\n",
        "\n",
        "        # Calculate the cross-entropy loss\n",
        "        val_loss += criterion(logits_tensor, val_labels).item()\n",
        "\n",
        "        _, predicted = torch.max(logits_tensor, 1)\n",
        "        correct_predictions += (predicted == val_labels).sum().item()\n",
        "        total_samples += val_labels.size(0)\n",
        "\n",
        "        # Cleanup GPU memory\n",
        "        del val_inputs, val_labels, logits_tensor\n",
        "        torch.cuda.empty_cache()\n",
        "\n",
        "    average_val_loss = val_loss / len(test_dataloader)\n",
        "\n",
        "    # Append training and validation losses to lists\n",
        "    train_losses.append(loss.item())\n",
        "    val_losses.append(average_val_loss)\n",
        "\n",
        "    accuracy = correct_predictions / total_samples\n",
        "\n",
        "    if average_val_loss < best_val_loss:\n",
        "      best_val_loss = average_val_loss\n",
        "\n",
        "            # Save the current best model weights\n",
        "      torch.save(fine_tune_model, '/content/drive/MyDrive/Project/Transformer_CV/models/model.pt')\n",
        "\n",
        "\n",
        "    # Print or log training and validation statistics for the epoch\n",
        "    print(f'Epoch {epoch+1}/{num_epochs}, Train_Val Loss: {loss.item()}, Test Loss: {average_val_loss}, Accuracy: {accuracy}')\n",
        "\n",
        "# Plotting training and validation losses over epochs\n",
        "plt.plot(range(1, num_epochs + 1), train_losses, label='Training_Validation Loss')\n",
        "plt.plot(range(1, num_epochs + 1), val_losses, label='Test Loss')\n",
        "plt.xlabel('Epoch')\n",
        "plt.ylabel('Loss')\n",
        "plt.legend()\n",
        "plt.show()\n",
        "\n",
        "print(best_val_loss)"
      ],
      "metadata": {
        "colab": {
          "base_uri": "https://localhost:8080/",
          "height": 727
        },
        "id": "wnhyWiTNdOmu",
        "outputId": "76cf6c09-676e-44ea-c27a-ad530292fdcc"
      },
      "execution_count": 32,
      "outputs": [
        {
          "output_type": "stream",
          "name": "stdout",
          "text": [
            "Epoch 1/15, Train_Val Loss: 0.2954730689525604, Test Loss: 0.26134618930518627, Accuracy: 0.9251497005988024\n",
            "Epoch 2/15, Train_Val Loss: 0.39702633023262024, Test Loss: 0.260956599842757, Accuracy: 0.9261477045908184\n",
            "Epoch 3/15, Train_Val Loss: 0.3092125654220581, Test Loss: 0.260960410349071, Accuracy: 0.9261477045908184\n",
            "Epoch 4/15, Train_Val Loss: 0.21267662942409515, Test Loss: 0.2605104981921613, Accuracy: 0.9261477045908184\n",
            "Epoch 5/15, Train_Val Loss: 0.2748646140098572, Test Loss: 0.26040983851999044, Accuracy: 0.9251497005988024\n",
            "Epoch 6/15, Train_Val Loss: 0.39427244663238525, Test Loss: 0.2604459337890148, Accuracy: 0.9251497005988024\n",
            "Epoch 7/15, Train_Val Loss: 0.12569253146648407, Test Loss: 0.26067083701491356, Accuracy: 0.9251497005988024\n",
            "Epoch 8/15, Train_Val Loss: 0.426601380109787, Test Loss: 0.26058247312903404, Accuracy: 0.9261477045908184\n",
            "Epoch 9/15, Train_Val Loss: 0.3479883074760437, Test Loss: 0.2605746230110526, Accuracy: 0.9251497005988024\n",
            "Epoch 10/15, Train_Val Loss: 0.44279780983924866, Test Loss: 0.2604563469067216, Accuracy: 0.9271457085828343\n",
            "Epoch 11/15, Train_Val Loss: 0.38506263494491577, Test Loss: 0.2605474288575351, Accuracy: 0.9261477045908184\n",
            "Epoch 12/15, Train_Val Loss: 0.4448331594467163, Test Loss: 0.2602980653755367, Accuracy: 0.9261477045908184\n",
            "Epoch 13/15, Train_Val Loss: 0.1461963653564453, Test Loss: 0.2603710228577256, Accuracy: 0.9261477045908184\n",
            "Epoch 14/15, Train_Val Loss: 0.2973514795303345, Test Loss: 0.26008552173152566, Accuracy: 0.9261477045908184\n",
            "Epoch 15/15, Train_Val Loss: 0.22530320286750793, Test Loss: 0.26037038350477815, Accuracy: 0.9261477045908184\n"
          ]
        },
        {
          "output_type": "display_data",
          "data": {
            "text/plain": [
              "<Figure size 640x480 with 1 Axes>"
            ],
            "image/png": "[encoded data removed]"
          },
          "metadata": {}
        },
        {
          "output_type": "stream",
          "name": "stdout",
          "text": [
            "0.26008552173152566\n"
          ]
        }
      ]
    },
    {
      "cell_type": "markdown",
      "source": [
        "Surprisingly, both loss an accuracy improve largely on test dataset. There are three possibilities:\n",
        "1. The model was trapped in a region with zero gradient, and adding validation set into training process help it to escape. It would be the best situation because this model does learn more thing and improve its ability.\n",
        "\n",
        "2. It could be the case that test dataset is more like training dataset that validation dataset is. In this case the higher performance just reflect the overfitting on training dataset.\n",
        "\n",
        "3. Part of the change may due to the raio of train_val and test is now 9:1, larger than the original train-val radio, 8:1.\n",
        "\n",
        "Nevertheless, it is a good news that we see a better performance. Even in the worst case, adding new data into training process doesn't ruin the model. Therefore we can use the similar way to utilize the whole dataset to train the final model and expect it won't be worse than the present one. Notice that in this final training we won't have any other data to validate so we just train it and save the final result as \"cat20_breeds.pt\"."
      ],
      "metadata": {
        "id": "Je7D5FEIuysx"
      }
    },
    {
      "cell_type": "code",
      "source": [],
      "metadata": {
        "id": "woVIRCupxLU3"
      },
      "execution_count": null,
      "outputs": []
    }
  ],
  "metadata": {
    "accelerator": "GPU",
    "colab": {
      "provenance": [],
      "machine_shape": "hm",
      "gpuType": "V100",
      "mount_file_id": "1pNoX_4SGquAjKTHitp1YTNCrJsxdm4Zw",
      "authorship_tag": "ABX9TyP8vbah72JNhXmSEZe6Ngc3",
      "include_colab_link": true
    },
    "kernelspec": {
      "display_name": "Python 3",
      "name": "python3"
    },
    "language_info": {
      "name": "python"
    },
    "widgets": {
      "application/vnd.jupyter.widget-state+json": {
        "ce263060bead49b28c031ef6c0fbe7e4": {
          "model_module": "@jupyter-widgets/controls",
          "model_name": "HBoxModel",
          "model_module_version": "1.5.0",
          "state": {
            "_dom_classes": [],
            "_model_module": "@jupyter-widgets/controls",
            "_model_module_version": "1.5.0",
            "_model_name": "HBoxModel",
            "_view_count": null,
            "_view_module": "@jupyter-widgets/controls",
            "_view_module_version": "1.5.0",
            "_view_name": "HBoxView",
            "box_style": "",
            "children": [
              "IPY_MODEL_b863e42dbb0a4aa68041b881c3655353",
              "IPY_MODEL_93ec52de90074d56a7d80fabd7c957bf",
              "IPY_MODEL_c1a74ad71db24c46bbb4f6d1d571da92"
            ],
            "layout": "IPY_MODEL_cf1b001a4cfc4d1ca34bc64925ad3205"
          }
        },
        "b863e42dbb0a4aa68041b881c3655353": {
          "model_module": "@jupyter-widgets/controls",
          "model_name": "HTMLModel",
          "model_module_version": "1.5.0",
          "state": {
            "_dom_classes": [],
            "_model_module": "@jupyter-widgets/controls",
            "_model_module_version": "1.5.0",
            "_model_name": "HTMLModel",
            "_view_count": null,
            "_view_module": "@jupyter-widgets/controls",
            "_view_module_version": "1.5.0",
            "_view_name": "HTMLView",
            "description": "",
            "description_tooltip": null,
            "layout": "IPY_MODEL_957f2c46438e43ba9f1a8dd530ee1f66",
            "placeholder": "​",
            "style": "IPY_MODEL_32a706047ee44597a28f443451f4de45",
            "value": "Downloading builder script: "
          }
        },
        "93ec52de90074d56a7d80fabd7c957bf": {
          "model_module": "@jupyter-widgets/controls",
          "model_name": "FloatProgressModel",
          "model_module_version": "1.5.0",
          "state": {
            "_dom_classes": [],
            "_model_module": "@jupyter-widgets/controls",
            "_model_module_version": "1.5.0",
            "_model_name": "FloatProgressModel",
            "_view_count": null,
            "_view_module": "@jupyter-widgets/controls",
            "_view_module_version": "1.5.0",
            "_view_name": "ProgressView",
            "bar_style": "success",
            "description": "",
            "description_tooltip": null,
            "layout": "IPY_MODEL_8daa8b6be7f74c0088e86ec410b27a42",
            "max": 1652,
            "min": 0,
            "orientation": "horizontal",
            "style": "IPY_MODEL_6324c4884c41497295de1fbad5920187",
            "value": 1652
          }
        },
        "c1a74ad71db24c46bbb4f6d1d571da92": {
          "model_module": "@jupyter-widgets/controls",
          "model_name": "HTMLModel",
          "model_module_version": "1.5.0",
          "state": {
            "_dom_classes": [],
            "_model_module": "@jupyter-widgets/controls",
            "_model_module_version": "1.5.0",
            "_model_name": "HTMLModel",
            "_view_count": null,
            "_view_module": "@jupyter-widgets/controls",
            "_view_module_version": "1.5.0",
            "_view_name": "HTMLView",
            "description": "",
            "description_tooltip": null,
            "layout": "IPY_MODEL_3dd784c60f47455fbd9c9aa1dce7f2cb",
            "placeholder": "​",
            "style": "IPY_MODEL_3f2c5d034eb240d3b9117e7832d304de",
            "value": " 4.21k/? [00:00&lt;00:00, 293kB/s]"
          }
        },
        "cf1b001a4cfc4d1ca34bc64925ad3205": {
          "model_module": "@jupyter-widgets/base",
          "model_name": "LayoutModel",
          "model_module_version": "1.2.0",
          "state": {
            "_model_module": "@jupyter-widgets/base",
            "_model_module_version": "1.2.0",
            "_model_name": "LayoutModel",
            "_view_count": null,
            "_view_module": "@jupyter-widgets/base",
            "_view_module_version": "1.2.0",
            "_view_name": "LayoutView",
            "align_content": null,
            "align_items": null,
            "align_self": null,
            "border": null,
            "bottom": null,
            "display": null,
            "flex": null,
            "flex_flow": null,
            "grid_area": null,
            "grid_auto_columns": null,
            "grid_auto_flow": null,
            "grid_auto_rows": null,
            "grid_column": null,
            "grid_gap": null,
            "grid_row": null,
            "grid_template_areas": null,
            "grid_template_columns": null,
            "grid_template_rows": null,
            "height": null,
            "justify_content": null,
            "justify_items": null,
            "left": null,
            "margin": null,
            "max_height": null,
            "max_width": null,
            "min_height": null,
            "min_width": null,
            "object_fit": null,
            "object_position": null,
            "order": null,
            "overflow": null,
            "overflow_x": null,
            "overflow_y": null,
            "padding": null,
            "right": null,
            "top": null,
            "visibility": null,
            "width": null
          }
        },
        "957f2c46438e43ba9f1a8dd530ee1f66": {
          "model_module": "@jupyter-widgets/base",
          "model_name": "LayoutModel",
          "model_module_version": "1.2.0",
          "state": {
            "_model_module": "@jupyter-widgets/base",
            "_model_module_version": "1.2.0",
            "_model_name": "LayoutModel",
            "_view_count": null,
            "_view_module": "@jupyter-widgets/base",
            "_view_module_version": "1.2.0",
            "_view_name": "LayoutView",
            "align_content": null,
            "align_items": null,
            "align_self": null,
            "border": null,
            "bottom": null,
            "display": null,
            "flex": null,
            "flex_flow": null,
            "grid_area": null,
            "grid_auto_columns": null,
            "grid_auto_flow": null,
            "grid_auto_rows": null,
            "grid_column": null,
            "grid_gap": null,
            "grid_row": null,
            "grid_template_areas": null,
            "grid_template_columns": null,
            "grid_template_rows": null,
            "height": null,
            "justify_content": null,
            "justify_items": null,
            "left": null,
            "margin": null,
            "max_height": null,
            "max_width": null,
            "min_height": null,
            "min_width": null,
            "object_fit": null,
            "object_position": null,
            "order": null,
            "overflow": null,
            "overflow_x": null,
            "overflow_y": null,
            "padding": null,
            "right": null,
            "top": null,
            "visibility": null,
            "width": null
          }
        },
        "32a706047ee44597a28f443451f4de45": {
          "model_module": "@jupyter-widgets/controls",
          "model_name": "DescriptionStyleModel",
          "model_module_version": "1.5.0",
          "state": {
            "_model_module": "@jupyter-widgets/controls",
            "_model_module_version": "1.5.0",
            "_model_name": "DescriptionStyleModel",
            "_view_count": null,
            "_view_module": "@jupyter-widgets/base",
            "_view_module_version": "1.2.0",
            "_view_name": "StyleView",
            "description_width": ""
          }
        },
        "8daa8b6be7f74c0088e86ec410b27a42": {
          "model_module": "@jupyter-widgets/base",
          "model_name": "LayoutModel",
          "model_module_version": "1.2.0",
          "state": {
            "_model_module": "@jupyter-widgets/base",
            "_model_module_version": "1.2.0",
            "_model_name": "LayoutModel",
            "_view_count": null,
            "_view_module": "@jupyter-widgets/base",
            "_view_module_version": "1.2.0",
            "_view_name": "LayoutView",
            "align_content": null,
            "align_items": null,
            "align_self": null,
            "border": null,
            "bottom": null,
            "display": null,
            "flex": null,
            "flex_flow": null,
            "grid_area": null,
            "grid_auto_columns": null,
            "grid_auto_flow": null,
            "grid_auto_rows": null,
            "grid_column": null,
            "grid_gap": null,
            "grid_row": null,
            "grid_template_areas": null,
            "grid_template_columns": null,
            "grid_template_rows": null,
            "height": null,
            "justify_content": null,
            "justify_items": null,
            "left": null,
            "margin": null,
            "max_height": null,
            "max_width": null,
            "min_height": null,
            "min_width": null,
            "object_fit": null,
            "object_position": null,
            "order": null,
            "overflow": null,
            "overflow_x": null,
            "overflow_y": null,
            "padding": null,
            "right": null,
            "top": null,
            "visibility": null,
            "width": null
          }
        },
        "6324c4884c41497295de1fbad5920187": {
          "model_module": "@jupyter-widgets/controls",
          "model_name": "ProgressStyleModel",
          "model_module_version": "1.5.0",
          "state": {
            "_model_module": "@jupyter-widgets/controls",
            "_model_module_version": "1.5.0",
            "_model_name": "ProgressStyleModel",
            "_view_count": null,
            "_view_module": "@jupyter-widgets/base",
            "_view_module_version": "1.2.0",
            "_view_name": "StyleView",
            "bar_color": null,
            "description_width": ""
          }
        },
        "3dd784c60f47455fbd9c9aa1dce7f2cb": {
          "model_module": "@jupyter-widgets/base",
          "model_name": "LayoutModel",
          "model_module_version": "1.2.0",
          "state": {
            "_model_module": "@jupyter-widgets/base",
            "_model_module_version": "1.2.0",
            "_model_name": "LayoutModel",
            "_view_count": null,
            "_view_module": "@jupyter-widgets/base",
            "_view_module_version": "1.2.0",
            "_view_name": "LayoutView",
            "align_content": null,
            "align_items": null,
            "align_self": null,
            "border": null,
            "bottom": null,
            "display": null,
            "flex": null,
            "flex_flow": null,
            "grid_area": null,
            "grid_auto_columns": null,
            "grid_auto_flow": null,
            "grid_auto_rows": null,
            "grid_column": null,
            "grid_gap": null,
            "grid_row": null,
            "grid_template_areas": null,
            "grid_template_columns": null,
            "grid_template_rows": null,
            "height": null,
            "justify_content": null,
            "justify_items": null,
            "left": null,
            "margin": null,
            "max_height": null,
            "max_width": null,
            "min_height": null,
            "min_width": null,
            "object_fit": null,
            "object_position": null,
            "order": null,
            "overflow": null,
            "overflow_x": null,
            "overflow_y": null,
            "padding": null,
            "right": null,
            "top": null,
            "visibility": null,
            "width": null
          }
        },
        "3f2c5d034eb240d3b9117e7832d304de": {
          "model_module": "@jupyter-widgets/controls",
          "model_name": "DescriptionStyleModel",
          "model_module_version": "1.5.0",
          "state": {
            "_model_module": "@jupyter-widgets/controls",
            "_model_module_version": "1.5.0",
            "_model_name": "DescriptionStyleModel",
            "_view_count": null,
            "_view_module": "@jupyter-widgets/base",
            "_view_module_version": "1.2.0",
            "_view_name": "StyleView",
            "description_width": ""
          }
        }
      }
    }
  },
  "nbformat": 4,
  "nbformat_minor": 0
}